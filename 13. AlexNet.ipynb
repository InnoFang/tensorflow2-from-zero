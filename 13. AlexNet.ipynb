{
 "cells": [
  {
   "cell_type": "markdown",
   "metadata": {},
   "source": [
    "## AlexNet\n",
    "\n",
    "AlexNet[1] 与 LeNet 有很多相似之处，但是也有一些很重要的改进，比如，使用了 ReLu 激活函数替代 sigmoid 激活函数，提升了训练速度；使用 Dropout 缓解了过拟合；使用了局部响应标准化 LRN；增加了训练上的技巧以及远超于 LenNet 的网络规模（6000 万个参数和 65 万个神经元）等，也正因此使得其在 2012 年的 ImageNet 竞赛取得了冠军。\n",
    "\n",
    "本节也是在第 11 节的 baseline 代码基础上进行改进，同样也是使用 Fashion MNIST 数据集进行训练（关于 Fashion MNIST 数据的信息可查看第 10 节）。因此也会在原版本的基础上做出一些调整。网络共 8 层（不算输入层）：5 层卷积层和 3 层全连接层\n",
    "\n",
    "**注** CBAPD 即 **C**onvolutional、**B**atch Normalization、**A**ctivation、**P**ooling、**D**ropout\n",
    "\n",
    " + 第一层：卷积层\n",
    "  + C：使用 96 个 $3\\times3$ 的卷积核，步长为 1，不使用全 0 填充（valid）\n",
    "  + B：使用批标准化 Batch Normalization（原论文使用的是局部响应标准化 LRN（Local Response Normalization），两者功能相似，故这里使用了更常见的 BN）\n",
    "  + A：使用 ReLu 激活函数\n",
    "  + P：使用 $3\\times3$ 的池化核，采用最大值池化，步长为 2\n",
    "  + D：不使用 Dropout\n",
    " + 第二层：卷积层\n",
    "  + C：使用 256 个 $3\\times3$ 的卷积核，步长为 1，不使用全 0 填充（valid）\n",
    "  + B：使用批标准化 Batch Normalization\n",
    "  + A：使用 ReLu 激活函数\n",
    "  + P：使用 $3\\times3$ 的池化核，采用最大值池化，步长为 2\n",
    "  + D：不使用 Dropout\n",
    " + 第三层：卷积层\n",
    "  + C：使用 384 个 $3\\times3$ 的卷积核，步长为 1，使用全 0 填充（same）\n",
    "  + B：不使用批标准化\n",
    "  + A：使用 ReLu 激活函数\n",
    "  + P：不使用池化\n",
    "  + D：不使用 Dropout\n",
    " + 第四层：卷积层\n",
    "  + C：使用 384 个 $3\\times3$ 的卷积核，步长为 1，使用全 0 填充（same）\n",
    "  + B：不使用批标准化\n",
    "  + A：使用 ReLu 激活函数\n",
    "  + P：不使用池化\n",
    "  + D：不使用 Dropout\n",
    " + 第五层：卷积层\n",
    "  + C：使用 256 个 $3\\times3$ 的卷积核，步长为 1，使用全 0 填充（same）\n",
    "  + B：不使用批标准化\n",
    "  + A：使用 ReLu 激活函数\n",
    "  + P：使用 $3\\times3$ 的池化核，采用最大值池化，步长为 2\n",
    "  + D：不使用 Dropout\n",
    " + Flatten 拉伸卷积层传来的输入特征 \n",
    " + 第六层：全连接层\n",
    "  + 4096 个神经元\n",
    "  + 使用 ReLu 激活函数 \n",
    "  + 使用值为 0.5 的 Dropout\n",
    " + 第七层：全连接层\n",
    "  + 4096 个神经元\n",
    "  + 使用 ReLu 激活函数 \n",
    "  + 使用值为 0.5 的 Dropout\n",
    " + 第八层：全连接层（输出层）\n",
    "  + 10 个神经元\n",
    "  + 使用 softmax 激活函数\n",
    " \n",
    "原论文中输出层的神经元个数为 1000，但我们使用的是 Fashion MNIST 数据集，只有 10 个类别。\n",
    " \n",
    "+ [1] Krizhevsky A , Sutskever I , Hinton G E . Imagenet classification with deep convolutional neural networks[J]. Advances in neural information processing systems, 2012, 25(2)."
   ]
  },
  {
   "cell_type": "code",
   "execution_count": 1,
   "metadata": {},
   "outputs": [],
   "source": [
    "import tensorflow as tf\n",
    "import numpy as np\n",
    "import os\n",
    "from matplotlib import pyplot as plt\n",
    "from tensorflow.keras.layers import Conv2D, BatchNormalization, Activation, MaxPool2D, Dropout, Flatten, Dense\n",
    "from tensorflow.keras import Model"
   ]
  },
  {
   "cell_type": "markdown",
   "metadata": {},
   "source": [
    "实现 AlexNet 网络模型"
   ]
  },
  {
   "cell_type": "code",
   "execution_count": 2,
   "metadata": {},
   "outputs": [],
   "source": [
    "alexnet8 = [\n",
    "    Conv2D(filters=96, kernel_size=(3, 3)),\n",
    "    BatchNormalization(),\n",
    "    Activation('relu'),\n",
    "    MaxPool2D(pool_size=(3, 3), strides=2),\n",
    "    Conv2D(filters=256, kernel_size=(3, 3)),\n",
    "    BatchNormalization(),\n",
    "    Activation('relu'),\n",
    "    MaxPool2D(pool_size=(3, 3), strides=2),\n",
    "    Conv2D(filters=384, kernel_size=(3, 3), padding='same', activation='relu'),\n",
    "    Conv2D(filters=384, kernel_size=(3, 3), padding='same', activation='relu'),\n",
    "    Conv2D(filters=256, kernel_size=(3, 3), padding='same', activation='relu'),\n",
    "    MaxPool2D(pool_size=(3, 3), strides=2),\n",
    "    Flatten(),\n",
    "    Dense(4096, activation='relu'),\n",
    "    Dropout(0.5),\n",
    "    Dense(4096, activation='relu'),\n",
    "    Dropout(0.5),\n",
    "    Dense(10, activation='softmax')                                                    \n",
    "]"
   ]
  },
  {
   "cell_type": "markdown",
   "metadata": {},
   "source": [
    "训练步骤依然是之前扩展的“六步法”"
   ]
  },
  {
   "cell_type": "code",
   "execution_count": 4,
   "metadata": {},
   "outputs": [],
   "source": [
    "# 导入数据集\n",
    "(x_train, y_train), (x_test, y_test) = tf.keras.datasets.fashion_mnist.load_data() \n",
    "x_train, x_test = x_train / 255.0, x_test / 255.0\n",
    "x_train = x_train.reshape(x_train.shape[0], 28, 28, 1)\n",
    "x_test = x_test.reshape(x_test.shape[0], 28, 28, 1)"
   ]
  },
  {
   "cell_type": "code",
   "execution_count": 5,
   "metadata": {},
   "outputs": [],
   "source": [
    "# AlexNet8\n",
    "model = tf.keras.models.Sequential(alexnet8)"
   ]
  },
  {
   "cell_type": "code",
   "execution_count": 6,
   "metadata": {},
   "outputs": [],
   "source": [
    "# 配置模型参数\n",
    "model.compile(optimizer='adam',\n",
    "              loss=tf.keras.losses.SparseCategoricalCrossentropy(from_logits=False),\n",
    "              metrics=['sparse_categorical_accuracy'])"
   ]
  },
  {
   "cell_type": "code",
   "execution_count": 7,
   "metadata": {},
   "outputs": [],
   "source": [
    "# 设置断点续训\n",
    "checkpoint_save_path = './checkpoint/AlexNet8.ckpt'\n",
    "if os.path.exists(checkpoint_save_path + '.index'):\n",
    "    model.load_weights(checkpoint_save_path)"
   ]
  },
  {
   "cell_type": "code",
   "execution_count": 8,
   "metadata": {},
   "outputs": [],
   "source": [
    "# 设置保存最优模型参数回调\n",
    "cp_callback = tf.keras.callbacks.ModelCheckpoint(filepath=checkpoint_save_path,\n",
    "                                                save_best_only=True,\n",
    "                                                save_weights_only=True)"
   ]
  },
  {
   "cell_type": "code",
   "execution_count": 9,
   "metadata": {},
   "outputs": [
    {
     "name": "stdout",
     "output_type": "stream",
     "text": [
      "Train on 60000 samples, validate on 10000 samples\n",
      "Epoch 1/5\n",
      "60000/60000 [==============================] - 833s 14ms/sample - loss: 0.6024 - sparse_categorical_accuracy: 0.7795 - val_loss: 0.8303 - val_sparse_categorical_accuracy: 0.6864\n",
      "Epoch 2/5\n",
      "60000/60000 [==============================] - 865s 14ms/sample - loss: 0.3634 - sparse_categorical_accuracy: 0.8702 - val_loss: 0.3893 - val_sparse_categorical_accuracy: 0.8574\n",
      "Epoch 3/5\n",
      "60000/60000 [==============================] - 830s 14ms/sample - loss: 0.3186 - sparse_categorical_accuracy: 0.8848 - val_loss: 0.3598 - val_sparse_categorical_accuracy: 0.8657\n",
      "Epoch 4/5\n",
      "60000/60000 [==============================] - 801s 13ms/sample - loss: 0.2900 - sparse_categorical_accuracy: 0.8945 - val_loss: 0.3759 - val_sparse_categorical_accuracy: 0.8525\n",
      "Epoch 5/5\n",
      "60000/60000 [==============================] - 916s 15ms/sample - loss: 0.2733 - sparse_categorical_accuracy: 0.9004 - val_loss: 0.3242 - val_sparse_categorical_accuracy: 0.8868\n"
     ]
    }
   ],
   "source": [
    "# 训练模型\n",
    "history = model.fit(x_train, y_train,\n",
    "                    batch_size=128,\n",
    "                    epochs=5,\n",
    "                    validation_data=(x_test, y_test),\n",
    "                    validation_freq=1,\n",
    "                    callbacks=[cp_callback])"
   ]
  },
  {
   "cell_type": "code",
   "execution_count": 10,
   "metadata": {},
   "outputs": [
    {
     "name": "stdout",
     "output_type": "stream",
     "text": [
      "Model: \"sequential\"\n",
      "_________________________________________________________________\n",
      "Layer (type)                 Output Shape              Param #   \n",
      "=================================================================\n",
      "conv2d (Conv2D)              multiple                  960       \n",
      "_________________________________________________________________\n",
      "batch_normalization (BatchNo multiple                  384       \n",
      "_________________________________________________________________\n",
      "activation (Activation)      multiple                  0         \n",
      "_________________________________________________________________\n",
      "max_pooling2d (MaxPooling2D) multiple                  0         \n",
      "_________________________________________________________________\n",
      "conv2d_1 (Conv2D)            multiple                  221440    \n",
      "_________________________________________________________________\n",
      "batch_normalization_1 (Batch multiple                  1024      \n",
      "_________________________________________________________________\n",
      "activation_1 (Activation)    multiple                  0         \n",
      "_________________________________________________________________\n",
      "max_pooling2d_1 (MaxPooling2 multiple                  0         \n",
      "_________________________________________________________________\n",
      "conv2d_2 (Conv2D)            multiple                  885120    \n",
      "_________________________________________________________________\n",
      "conv2d_3 (Conv2D)            multiple                  1327488   \n",
      "_________________________________________________________________\n",
      "conv2d_4 (Conv2D)            multiple                  884992    \n",
      "_________________________________________________________________\n",
      "max_pooling2d_2 (MaxPooling2 multiple                  0         \n",
      "_________________________________________________________________\n",
      "flatten (Flatten)            multiple                  0         \n",
      "_________________________________________________________________\n",
      "dense (Dense)                multiple                  1052672   \n",
      "_________________________________________________________________\n",
      "dropout (Dropout)            multiple                  0         \n",
      "_________________________________________________________________\n",
      "dense_1 (Dense)              multiple                  16781312  \n",
      "_________________________________________________________________\n",
      "dropout_1 (Dropout)          multiple                  0         \n",
      "_________________________________________________________________\n",
      "dense_2 (Dense)              multiple                  40970     \n",
      "=================================================================\n",
      "Total params: 21,196,362\n",
      "Trainable params: 21,195,658\n",
      "Non-trainable params: 704\n",
      "_________________________________________________________________\n"
     ]
    }
   ],
   "source": [
    "# 打印网络结构\n",
    "model.summary()"
   ]
  },
  {
   "cell_type": "code",
   "execution_count": 11,
   "metadata": {},
   "outputs": [],
   "source": [
    "np.set_printoptions(threshold=np.inf)\n",
    "# 保存参数信息\n",
    "with open('./data/weights.txt', 'w') as file:\n",
    "    for v in model.trainable_variables:\n",
    "        file.write(str(v.name) + '\\n')\n",
    "        file.write(str(v.shape) + '\\n')\n",
    "        file.write(str(v.numpy()) + '\\n')"
   ]
  },
  {
   "cell_type": "code",
   "execution_count": 12,
   "metadata": {},
   "outputs": [],
   "source": [
    "# 获取 acc 和 loss 曲线数据\n",
    "acc = history.history['sparse_categorical_accuracy']\n",
    "val_acc = history.history['val_sparse_categorical_accuracy']\n",
    "loss = history.history['loss']\n",
    "val_loss = history.history['val_loss']"
   ]
  },
  {
   "cell_type": "code",
   "execution_count": 13,
   "metadata": {},
   "outputs": [
    {
     "data": {
      "image/png": "[encoded data removed]",
      "text/plain": [
       "<Figure size 432x288 with 1 Axes>"
      ]
     },
     "metadata": {
      "needs_background": "light"
     },
     "output_type": "display_data"
    }
   ],
   "source": [
    "# 可视化 acc 曲线\n",
    "plt.plot(acc, label='Training Accuracy')\n",
    "plt.plot(val_acc, label='Validation Accuracy')\n",
    "plt.title('Training and Validation Accuracy')\n",
    "plt.legend()\n",
    "plt.show()"
   ]
  },
  {
   "cell_type": "code",
   "execution_count": 14,
   "metadata": {},
   "outputs": [
    {
     "data": {
      "image/png": "[encoded data removed]",
      "text/plain": [
       "<Figure size 432x288 with 1 Axes>"
      ]
     },
     "metadata": {
      "needs_background": "light"
     },
     "output_type": "display_data"
    }
   ],
   "source": [
    "# 可视化 loss 曲线\n",
    "plt.plot(loss, label='Training Loss')\n",
    "plt.plot(val_loss, label='Validation Loss')\n",
    "plt.title('Training and Validation Loss')\n",
    "plt.legend()\n",
    "plt.show()"
   ]
  },
  {
   "cell_type": "code",
   "execution_count": null,
   "metadata": {},
   "outputs": [],
   "source": []
  }
 ],
 "metadata": {
  "kernelspec": {
   "display_name": "tensorflow 2.1",
   "language": "python",
   "name": "tf2"
  },
  "language_info": {
   "codemirror_mode": {
    "name": "ipython",
    "version": 3
   },
   "file_extension": ".py",
   "mimetype": "text/x-python",
   "name": "python",
   "nbconvert_exporter": "python",
   "pygments_lexer": "ipython3",
   "version": "3.7.7"
  }
 },
 "nbformat": 4,
 "nbformat_minor": 4
}
