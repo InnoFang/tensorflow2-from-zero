{
 "cells": [
  {
   "cell_type": "markdown",
   "metadata": {},
   "source": [
    "## AlexNet\n",
    "\n",
    "AlexNet[1] 与 LeNet 有很多相似之处，但是也有一些很重要的改进，比如，使用了 ReLu 激活函数替代 sigmoid 激活函数，提升了训练速度；使用 Dropout 缓解了过拟合；使用了局部响应标准化 LRN；增加了训练上的技巧以及远超于 LenNet 的网络规模（6000 万个参数和 65 万个神经元）等，也正因此使得其在 2012 年的 ImageNet 竞赛取得了冠军。\n",
    "\n",
    "本节也是在第 11 节的 baseline 代码基础上进行改进，同样也是使用 CIFAR-10 数据集进行训练（关于 CIFAR-10 数据的信息可查看第 10 节）。因此也会在原版本的基础上做出一些调整，实现简易版本的 AlexNet。网络共 8 层（不算输入层）：5 层卷积层和 3 层全连接层\n",
    "\n",
    "**注** CBAPD 即 **C**onvolutional、**B**atch Normalization、**A**ctivation、**P**ooling、**D**ropout\n",
    "\n",
    " + 第一层：卷积层\n",
    "  + C：使用 96 个 $3\\times3$ 的卷积核，步长为 1，不使用全 0 填充（valid）\n",
    "  + B：使用批标准化 Batch Normalization（原论文使用的是局部响应标准化 LRN（Local Response Normalization），两者功能相似，故这里使用了更常见的 BN）\n",
    "  + A：使用 ReLu 激活函数\n",
    "  + P：使用 $3\\times3$ 的池化核，采用最大值池化，步长为 2\n",
    "  + D：不使用 Dropout\n",
    " + 第二层：卷积层\n",
    "  + C：使用 256 个 $3\\times3$ 的卷积核，步长为 1，不使用全 0 填充（valid）\n",
    "  + B：使用批标准化 Batch Normalization\n",
    "  + A：使用 ReLu 激活函数\n",
    "  + P：使用 $3\\times3$ 的池化核，采用最大值池化，步长为 2\n",
    "  + D：不使用 Dropout\n",
    " + 第三层：卷积层\n",
    "  + C：使用 384 个 $3\\times3$ 的卷积核，步长为 1，使用全 0 填充（same）\n",
    "  + B：不使用批标准化\n",
    "  + A：使用 ReLu 激活函数\n",
    "  + P：不使用池化\n",
    "  + D：不使用 Dropout\n",
    " + 第四层：卷积层\n",
    "  + C：使用 384 个 $3\\times3$ 的卷积核，步长为 1，使用全 0 填充（same）\n",
    "  + B：不使用批标准化\n",
    "  + A：使用 ReLu 激活函数\n",
    "  + P：不使用池化\n",
    "  + D：不使用 Dropout\n",
    " + 第五层：卷积层\n",
    "  + C：使用 256 个 $3\\times3$ 的卷积核，步长为 1，使用全 0 填充（same）\n",
    "  + B：不使用批标准化\n",
    "  + A：使用 ReLu 激活函数\n",
    "  + P：使用 $3\\times3$ 的池化核，采用最大值池化，步长为 2\n",
    "  + D：不使用 Dropout\n",
    " + Flatten 拉伸卷积层传来的输入特征 \n",
    " + 第六层：全连接层\n",
    "  + 2048 个神经元\n",
    "  + 使用 ReLu 激活函数 \n",
    "  + 使用值为 0.5 的 Dropout\n",
    " + 第七层：全连接层\n",
    "  + 2048 个神经元\n",
    "  + 使用 ReLu 激活函数 \n",
    "  + 使用值为 0.5 的 Dropout\n",
    " + 第八层：全连接层（输出层）\n",
    "  + 10 个神经元\n",
    "  + 使用 softmax 激活函数\n",
    " \n",
    " \n",
    "+ Krizhevsky A , Sutskever I , Hinton G E . Imagenet classification with deep convolutional neural networks[J]. Advances in neural information processing systems, 2012, 25(2)."
   ]
  },
  {
   "cell_type": "code",
   "execution_count": 1,
   "metadata": {},
   "outputs": [],
   "source": [
    "import tensorflow as tf\n",
    "import numpy as np\n",
    "import os\n",
    "from matplotlib import pyplot as plt\n",
    "from tensorflow.keras.layers import Conv2D, BatchNormalization, Activation, MaxPool2D, Dropout, Flatten, Dense\n",
    "from tensorflow.keras import Model"
   ]
  },
  {
   "cell_type": "markdown",
   "metadata": {},
   "source": [
    "实现 AlexNet 网络模型"
   ]
  },
  {
   "cell_type": "code",
   "execution_count": 2,
   "metadata": {},
   "outputs": [],
   "source": [
    "class AlexNet8(Model):\n",
    "    def __init__(self):\n",
    "        super(AlexNet8, self).__init__()\n",
    "        self.c1 = Conv2D(filters=96, kernel_size=(3, 3))\n",
    "        self.b1 = BatchNormalization()\n",
    "        self.a1 = Activation('relu')\n",
    "        self.p1 = MaxPool2D(pool_size=(3, 3), strides=2)\n",
    "        \n",
    "        self.c2 = Conv2D(filters=256, kernel_size=(3, 3))\n",
    "        self.b2 = BatchNormalization()\n",
    "        self.a2 = Activation('relu')\n",
    "        self.p2 = MaxPool2D(pool_size=(3, 3), strides=2)\n",
    "        \n",
    "        self.c3 = Conv2D(filters=384, kernel_size=(3, 3), padding='same', activation='relu')\n",
    "        \n",
    "        self.c4 = Conv2D(filters=384, kernel_size=(3, 3), padding='same', activation='relu')\n",
    "        \n",
    "        self.c5 = Conv2D(filters=256, kernel_size=(3, 3), padding='same', activation='relu') \n",
    "        self.p5 = MaxPool2D(pool_size=(3, 3), strides=2)\n",
    "        \n",
    "        self.flatten = Flatten()\n",
    "        self.f1 = Dense(2048, activation='relu')\n",
    "        self.d1 = Dropout(0.5)\n",
    "        self.f2 = Dense(2048, activation='relu')\n",
    "        self.d2 = Dropout(0.5)\n",
    "        self.f3 = Dense(10, activation='softmax')\n",
    "    \n",
    "    def call(self, x):\n",
    "        x = self.c1(x)\n",
    "        x = self.b1(x)\n",
    "        x = self.a1(x)\n",
    "        x = self.p1(x)\n",
    "\n",
    "        x = self.c2(x)\n",
    "        x = self.b2(x)\n",
    "        x = self.a2(x)\n",
    "        x = self.p2(x)\n",
    "\n",
    "        x = self.c3(x)\n",
    "\n",
    "        x = self.c4(x)\n",
    "\n",
    "        x = self.c5(x)\n",
    "        x = self.p5(x)\n",
    "\n",
    "        x = self.flatten(x)\n",
    "        x = self.f1(x)\n",
    "        x = self.d1(x)\n",
    "        x = self.f2(x)\n",
    "        x = self.d2(x)\n",
    "        y = self.f3(x)\n",
    "        return y"
   ]
  },
  {
   "cell_type": "markdown",
   "metadata": {},
   "source": [
    "训练步骤依然是之前扩展的“六步法”"
   ]
  },
  {
   "cell_type": "code",
   "execution_count": 3,
   "metadata": {},
   "outputs": [],
   "source": [
    "# 导入数据集\n",
    "(x_train, y_train), (x_test, y_test) = tf.keras.datasets.cifar10.load_data() \n",
    "x_train, x_test = x_train / 255.0, x_test / 255.0"
   ]
  },
  {
   "cell_type": "code",
   "execution_count": 4,
   "metadata": {},
   "outputs": [],
   "source": [
    "# AlexNet8\n",
    "model = AlexNet8()"
   ]
  },
  {
   "cell_type": "code",
   "execution_count": 5,
   "metadata": {},
   "outputs": [],
   "source": [
    "# 配置模型参数\n",
    "model.compile(optimizer='adam',\n",
    "              loss=tf.keras.losses.SparseCategoricalCrossentropy(from_logits=False),\n",
    "              metrics=['sparse_categorical_accuracy'])"
   ]
  },
  {
   "cell_type": "code",
   "execution_count": 6,
   "metadata": {},
   "outputs": [],
   "source": [
    "# 设置断点续训\n",
    "checkpoint_save_path = './checkpoint/AlexNet8.ckpt'\n",
    "if os.path.exists(checkpoint_save_path + '.index'):\n",
    "    model.load_weights(checkpoint_save_path)"
   ]
  },
  {
   "cell_type": "code",
   "execution_count": 7,
   "metadata": {},
   "outputs": [],
   "source": [
    "# 设置保存最优模型参数回调\n",
    "cp_callback = tf.keras.callbacks.ModelCheckpoint(filepath=checkpoint_save_path,\n",
    "                                                save_best_only=True,\n",
    "                                                save_weights_only=True)"
   ]
  },
  {
   "cell_type": "code",
   "execution_count": 8,
   "metadata": {},
   "outputs": [
    {
     "name": "stdout",
     "output_type": "stream",
     "text": [
      "Train on 50000 samples, validate on 10000 samples\n",
      "Epoch 1/5\n",
      "50000/50000 [==============================] - 746s 15ms/sample - loss: 1.6200 - sparse_categorical_accuracy: 0.3983 - val_loss: 1.3962 - val_sparse_categorical_accuracy: 0.5065\n",
      "Epoch 2/5\n",
      "50000/50000 [==============================] - 747s 15ms/sample - loss: 1.2927 - sparse_categorical_accuracy: 0.5421 - val_loss: 1.5372 - val_sparse_categorical_accuracy: 0.4879\n",
      "Epoch 3/5\n",
      "50000/50000 [==============================] - 742s 15ms/sample - loss: 1.1616 - sparse_categorical_accuracy: 0.5931 - val_loss: 1.2716 - val_sparse_categorical_accuracy: 0.5518\n",
      "Epoch 4/5\n",
      "50000/50000 [==============================] - 729s 15ms/sample - loss: 1.0805 - sparse_categorical_accuracy: 0.6252 - val_loss: 1.2433 - val_sparse_categorical_accuracy: 0.5767\n",
      "Epoch 5/5\n",
      "50000/50000 [==============================] - 1001s 20ms/sample - loss: 1.0157 - sparse_categorical_accuracy: 0.6501 - val_loss: 1.0933 - val_sparse_categorical_accuracy: 0.6290\n"
     ]
    }
   ],
   "source": [
    "# 训练模型\n",
    "history = model.fit(x_train, y_train,\n",
    "                    batch_size=32,\n",
    "                    epochs=5,\n",
    "                    validation_data=(x_test, y_test),\n",
    "                    validation_freq=1,\n",
    "                    callbacks=[cp_callback])"
   ]
  },
  {
   "cell_type": "code",
   "execution_count": 9,
   "metadata": {},
   "outputs": [
    {
     "name": "stdout",
     "output_type": "stream",
     "text": [
      "Model: \"alex_net8\"\n",
      "_________________________________________________________________\n",
      "Layer (type)                 Output Shape              Param #   \n",
      "=================================================================\n",
      "conv2d (Conv2D)              multiple                  2688      \n",
      "_________________________________________________________________\n",
      "batch_normalization (BatchNo multiple                  384       \n",
      "_________________________________________________________________\n",
      "activation (Activation)      multiple                  0         \n",
      "_________________________________________________________________\n",
      "max_pooling2d (MaxPooling2D) multiple                  0         \n",
      "_________________________________________________________________\n",
      "conv2d_1 (Conv2D)            multiple                  221440    \n",
      "_________________________________________________________________\n",
      "batch_normalization_1 (Batch multiple                  1024      \n",
      "_________________________________________________________________\n",
      "activation_1 (Activation)    multiple                  0         \n",
      "_________________________________________________________________\n",
      "max_pooling2d_1 (MaxPooling2 multiple                  0         \n",
      "_________________________________________________________________\n",
      "conv2d_2 (Conv2D)            multiple                  885120    \n",
      "_________________________________________________________________\n",
      "conv2d_3 (Conv2D)            multiple                  1327488   \n",
      "_________________________________________________________________\n",
      "conv2d_4 (Conv2D)            multiple                  884992    \n",
      "_________________________________________________________________\n",
      "max_pooling2d_2 (MaxPooling2 multiple                  0         \n",
      "_________________________________________________________________\n",
      "flatten (Flatten)            multiple                  0         \n",
      "_________________________________________________________________\n",
      "dense (Dense)                multiple                  2099200   \n",
      "_________________________________________________________________\n",
      "dropout (Dropout)            multiple                  0         \n",
      "_________________________________________________________________\n",
      "dense_1 (Dense)              multiple                  4196352   \n",
      "_________________________________________________________________\n",
      "dropout_1 (Dropout)          multiple                  0         \n",
      "_________________________________________________________________\n",
      "dense_2 (Dense)              multiple                  20490     \n",
      "=================================================================\n",
      "Total params: 9,639,178\n",
      "Trainable params: 9,638,474\n",
      "Non-trainable params: 704\n",
      "_________________________________________________________________\n"
     ]
    }
   ],
   "source": [
    "# 打印网络结构\n",
    "model.summary()"
   ]
  },
  {
   "cell_type": "code",
   "execution_count": 10,
   "metadata": {},
   "outputs": [],
   "source": [
    "np.set_printoptions(threshold=np.inf)\n",
    "# 保存参数信息\n",
    "with open('./data/weights.txt', 'w') as file:\n",
    "    for v in model.trainable_variables:\n",
    "        file.write(str(v.name) + '\\n')\n",
    "        file.write(str(v.shape) + '\\n')\n",
    "        file.write(str(v.numpy()) + '\\n')"
   ]
  },
  {
   "cell_type": "code",
   "execution_count": 11,
   "metadata": {},
   "outputs": [],
   "source": [
    "# 获取 acc 和 loss 曲线数据\n",
    "acc = history.history['sparse_categorical_accuracy']\n",
    "val_acc = history.history['val_sparse_categorical_accuracy']\n",
    "loss = history.history['loss']\n",
    "val_loss = history.history['val_loss']"
   ]
  },
  {
   "cell_type": "code",
   "execution_count": 12,
   "metadata": {},
   "outputs": [
    {
     "data": {
      "image/png": "[encoded data removed]",
      "text/plain": [
       "<Figure size 432x288 with 1 Axes>"
      ]
     },
     "metadata": {
      "needs_background": "light"
     },
     "output_type": "display_data"
    }
   ],
   "source": [
    "# 可视化 acc 曲线\n",
    "plt.plot(acc, label='Training Accuracy')\n",
    "plt.plot(val_acc, label='Validation Accuracy')\n",
    "plt.title('Training and Validation Accuracy')\n",
    "plt.legend()\n",
    "plt.show()"
   ]
  },
  {
   "cell_type": "code",
   "execution_count": 13,
   "metadata": {},
   "outputs": [
    {
     "data": {
      "image/png": "[encoded data removed]",
      "text/plain": [
       "<Figure size 432x288 with 1 Axes>"
      ]
     },
     "metadata": {
      "needs_background": "light"
     },
     "output_type": "display_data"
    }
   ],
   "source": [
    "# 可视化 loss 曲线\n",
    "plt.plot(loss, label='Training Loss')\n",
    "plt.plot(val_loss, label='Validation Loss')\n",
    "plt.title('Training and Validation Loss')\n",
    "plt.legend()\n",
    "plt.show()"
   ]
  },
  {
   "cell_type": "code",
   "execution_count": null,
   "metadata": {},
   "outputs": [],
   "source": []
  }
 ],
 "metadata": {
  "kernelspec": {
   "display_name": "tensorflow 2.1",
   "language": "python",
   "name": "tf2"
  },
  "language_info": {
   "codemirror_mode": {
    "name": "ipython",
    "version": 3
   },
   "file_extension": ".py",
   "mimetype": "text/x-python",
   "name": "python",
   "nbconvert_exporter": "python",
   "pygments_lexer": "ipython3",
   "version": "3.7.7"
  }
 },
 "nbformat": 4,
 "nbformat_minor": 4
}
