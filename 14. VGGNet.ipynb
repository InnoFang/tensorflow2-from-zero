{
 "cells": [
  {
   "cell_type": "markdown",
   "metadata": {},
   "source": [
    "## VGGNet\n",
    "\n",
    "VGGNet[1] 诞生于 2014 年，其最大的改进是在网络的深度上，相较于 AlexNet 的 8 层网络，VGGNet 则是增加到了 16 层（VGGNet16）和 19 层（VGGNet19），更深的网络意味着更强的表达能力，同时得益于其规整的网络结构，所以十分适合硬件加速。VGGNet 的另一个显著特点是仅使用了单一尺寸的 $3\\times3$ 卷积核，在之前介绍卷积的感受野时也提到过，使用小卷积核堆积的效果要优于大卷积核，在减少参数的同时，提高了识别准确率。\n",
    "\n",
    "上面提到了 VGGNet16 和 VGGNet19 两个网络，这两者只是网络的深度不同，前者 16 层（13 层卷积、3 层全连接），后者 19 层（16 层卷积、3 层全连接），本质上并没有什么区别。\n",
    "\n",
    "VGG 提出了可以重复使用简单的基础块来构建深度模型的思路。下面就介绍一下构成 VGGNet 的基础块。"
   ]
  },
  {
   "cell_type": "code",
   "execution_count": 1,
   "metadata": {},
   "outputs": [],
   "source": [
    "import tensorflow as tf\n",
    "import numpy as np\n",
    "import os\n",
    "from matplotlib import pyplot as plt\n",
    "from tensorflow.keras.layers import Conv2D, BatchNormalization, Activation, MaxPool2D, Dropout, Flatten, Dense\n",
    "from tensorflow.keras import Model"
   ]
  },
  {
   "cell_type": "markdown",
   "metadata": {},
   "source": [
    "### VGG 块\n",
    "\n",
    "VGG 块的组成规律是：连续使用数个相同的使用全 0 填充、核大小为 $3\\times3$ 的卷积层后接上一个步幅为 2、核大小为 $2\\times2$ 的最大池化层。卷积层保持输入的高和宽不变，而池化层则对其减半。下面实现一个 vgg_block 函数来构建基础的 VGG 块，可以指定卷积层的数量`num_covs` 和输出通道数 `num_channels`。"
   ]
  },
  {
   "cell_type": "code",
   "execution_count": 2,
   "metadata": {},
   "outputs": [],
   "source": [
    "def vgg_block(num_covs, num_channels):\n",
    "    blk = tf.keras.models.Sequential()\n",
    "    for _ in range(num_covs):\n",
    "        blk.add(Conv2D(num_channels, kernel_size=3, padding='same'))\n",
    "        blk.add(BatchNormalization())\n",
    "        blk.add(Activation('relu'))\n",
    "    blk.add(MaxPool2D(pool_size=(2, 2), strides=2, padding='same'))\n",
    "    return blk"
   ]
  },
  {
   "cell_type": "markdown",
   "metadata": {},
   "source": [
    "### VGG 网络结构\n",
    "\n",
    "接下来利用 VGG 块构建一个 VGG网络，用来训练 Fashion MNIST 数据集，在网络结构上相比于原论文所提到的结构会有所调整。它有 5 个 VGG 块，前 2 块使用单卷积层，后 3 块使用双卷积层，一共 8 个卷积层，最后再衔接 3 个全连接层，一共 11 层网络，因此命名为 VGG11。\n",
    "\n",
    "VGG16 也是使用了 5 个 VGG 块，只不过前 2 块使用了双卷积层，后 3 块使用了三卷积层，一共 13 层卷积层，再衔接 3 个全连接层组成 16 层网络，其他参数与接下来要实现的 VGG11 相似。因为训练的数据集不同，所以使用修改后的 VGG11，感兴趣的可以试试 VGG16 在 Fashion MNIST 上的训练效果。\n",
    "\n",
    "**注** CBAPD 即 **C**onvolutional、**B**atch Normalization、**A**ctivation、**P**ooling、**D**ropout\n",
    "\n",
    "为了简化网络结构描述的长度，下面对于没使用到的部分就不写出来了。\n",
    "\n",
    "+ 第 1 个 VGG 块：\n",
    "  + 第 1 层：卷积层\n",
    "   + C：使用 64 个 $3\\times3$ 的卷积核，步长为 1，使用全 0 填充（same）\n",
    "   + B: 使用批标准化\n",
    "   + A：使用 ReLu 激活函数\n",
    "   + P：使用 $2\\times2$ 的池化核，采用最大值池化，步长为 2，使用全 0 填充（same）\n",
    "+ 第 2 个 VGG 块：\n",
    "  + 第 2 层：卷积层\n",
    "   + C：使用 128 个 $3\\times3$ 的卷积核，步长为 1，使用全 0 填充（same）\n",
    "   + B: 使用批标准化\n",
    "   + A：使用 ReLu 激活函数\n",
    "   + P：使用 $2\\times2$ 的池化核，采用最大值池化，步长为 2，使用全 0 填充（same）\n",
    "+ 第 3 个 VGG 块：\n",
    "  + 第 3 层：卷积层\n",
    "   + C：使用 256 个 $3\\times3$ 的卷积核，步长为 1，使用全 0 填充（same）\n",
    "   + B: 使用批标准化\n",
    "   + A：使用 ReLu 激活函数\n",
    "  + 第 4 层：卷积层\n",
    "   + C：使用 256 个 $3\\times3$ 的卷积核，步长为 1，使用全 0 填充（same）\n",
    "   + B: 使用批标准化\n",
    "   + A：使用 ReLu 激活函数\n",
    "   + P：使用 $2\\times2$ 的池化核，采用最大值池化，步长为 2，使用全 0 填充（same）\n",
    "+ 第 4 个 VGG 块：\n",
    "  + 第 5 层：卷积层\n",
    "   + C：使用 512 个 $3\\times3$ 的卷积核，步长为 1，使用全 0 填充（same）\n",
    "   + B: 使用批标准化\n",
    "   + A：使用 ReLu 激活函数\n",
    "  + 第 6 层：卷积层\n",
    "   + C：使用 512 个 $3\\times3$ 的卷积核，步长为 1，使用全 0 填充（same）\n",
    "   + B: 使用批标准化\n",
    "   + A：使用 ReLu 激活函数\n",
    "   + P：使用 $2\\times2$ 的池化核，采用最大值池化，步长为 2，使用全 0 填充（same）\n",
    "+ 第 5 个 VGG 块：\n",
    "  + 第 7 层：卷积层\n",
    "   + C：使用 512 个 $3\\times3$ 的卷积核，步长为 1，使用全 0 填充（same）\n",
    "   + B: 使用批标准化\n",
    "   + A：使用 ReLu 激活函数\n",
    "  + 第 8 层：卷积层\n",
    "   + C：使用 512 个 $3\\times3$ 的卷积核，步长为 1，使用全 0 填充（same）\n",
    "   + B: 使用批标准化\n",
    "   + A：使用 ReLu 激活函数\n",
    "   + P：使用 $2\\times2$ 的池化核，采用最大值池化，步长为 2，使用全 0 填充（same）\n",
    "+ 全连接部分：\n",
    "  + Flatten 拉伸卷积层传来的输入特征 \n",
    "  + 第 9 层：全连接层\n",
    "   + 4096 个神经元\n",
    "   + 使用 ReLu 激活函数 \n",
    "   + 使用值为 0.5 的 Dropout\n",
    "  + 第 10 层：全连接层\n",
    "   + 4096 个神经元\n",
    "   + 使用 ReLu 激活函数 \n",
    "   + 使用值为 0.5 的 Dropout\n",
    "  + 第 11 层：全连接层（输出层）\n",
    "   + 10 个神经元\n",
    "   + 使用 softmax 激活函数\n",
    "\n",
    "\n",
    "+ [1] Simonyan K , Zisserman A . Very Deep Convolutional Networks for Large-Scale Image Recognition[J]. arXiv, 2014."
   ]
  },
  {
   "cell_type": "markdown",
   "metadata": {},
   "source": [
    "实现 VGG11 的网络模型"
   ]
  },
  {
   "cell_type": "code",
   "execution_count": 3,
   "metadata": {},
   "outputs": [],
   "source": [
    "vgg11 = [\n",
    "    vgg_block(1, 64),\n",
    "    vgg_block(1, 128),\n",
    "    vgg_block(2, 256),\n",
    "    vgg_block(2, 512),\n",
    "    vgg_block(2, 512),\n",
    "    Flatten(),\n",
    "    Dense(4096, activation='relu'),\n",
    "    Dropout(0.5),\n",
    "    Dense(4096, activation='relu'),\n",
    "    Dropout(0.5),\n",
    "    Dense(10, activation='softmax')\n",
    "]"
   ]
  },
  {
   "cell_type": "markdown",
   "metadata": {},
   "source": [
    "训练步骤依然是之前扩展的“六步法”"
   ]
  },
  {
   "cell_type": "code",
   "execution_count": 4,
   "metadata": {},
   "outputs": [],
   "source": [
    "# 导入数据集\n",
    "(x_train, y_train), (x_test, y_test) = tf.keras.datasets.fashion_mnist.load_data() \n",
    "x_train, x_test = x_train / 255.0, x_test / 255.0\n",
    "x_train = x_train.reshape(x_train.shape[0], 28, 28, 1)\n",
    "x_test = x_test.reshape(x_test.shape[0], 28, 28, 1)"
   ]
  },
  {
   "cell_type": "code",
   "execution_count": 5,
   "metadata": {},
   "outputs": [],
   "source": [
    "# VGG11\n",
    "model = tf.keras.models.Sequential(vgg11)"
   ]
  },
  {
   "cell_type": "code",
   "execution_count": 6,
   "metadata": {},
   "outputs": [],
   "source": [
    "# 配置模型参数\n",
    "model.compile(optimizer='adam',\n",
    "              loss=tf.keras.losses.SparseCategoricalCrossentropy(from_logits=False),\n",
    "              metrics=['sparse_categorical_accuracy'])"
   ]
  },
  {
   "cell_type": "code",
   "execution_count": 7,
   "metadata": {},
   "outputs": [],
   "source": [
    "# 设置断点续训\n",
    "checkpoint_save_path = './checkpoint/VGGNet16.ckpt'\n",
    "if os.path.exists(checkpoint_save_path + '.index'):\n",
    "    model.load_weights(checkpoint_save_path)"
   ]
  },
  {
   "cell_type": "code",
   "execution_count": 8,
   "metadata": {},
   "outputs": [],
   "source": [
    "# 设置保存最优模型参数回调\n",
    "cp_callback = tf.keras.callbacks.ModelCheckpoint(filepath=checkpoint_save_path,\n",
    "                                                save_best_only=True,\n",
    "                                                save_weights_only=True)"
   ]
  },
  {
   "cell_type": "code",
   "execution_count": 9,
   "metadata": {},
   "outputs": [
    {
     "name": "stdout",
     "output_type": "stream",
     "text": [
      "Train on 60000 samples, validate on 10000 samples\n",
      "Epoch 1/5\n",
      "60000/60000 [==============================] - 2190s 36ms/sample - loss: 0.8738 - sparse_categorical_accuracy: 0.6620 - val_loss: 0.4779 - val_sparse_categorical_accuracy: 0.8203\n",
      "Epoch 2/5\n",
      "60000/60000 [==============================] - 2669s 44ms/sample - loss: 0.4928 - sparse_categorical_accuracy: 0.8169 - val_loss: 0.4517 - val_sparse_categorical_accuracy: 0.8548\n",
      "Epoch 3/5\n",
      "60000/60000 [==============================] - 2360s 39ms/sample - loss: 0.3865 - sparse_categorical_accuracy: 0.8733 - val_loss: 0.3595 - val_sparse_categorical_accuracy: 0.8712\n",
      "Epoch 4/5\n",
      "60000/60000 [==============================] - 2379s 40ms/sample - loss: 0.2979 - sparse_categorical_accuracy: 0.8988 - val_loss: 0.3890 - val_sparse_categorical_accuracy: 0.8771\n",
      "Epoch 5/5\n",
      "60000/60000 [==============================] - 2056s 34ms/sample - loss: 0.2580 - sparse_categorical_accuracy: 0.9125 - val_loss: 0.2623 - val_sparse_categorical_accuracy: 0.9081\n"
     ]
    }
   ],
   "source": [
    "# 训练模型\n",
    "history = model.fit(x_train, y_train,\n",
    "                    batch_size=32,\n",
    "                    epochs=5,\n",
    "                    validation_data=(x_test, y_test),\n",
    "                    validation_freq=1,\n",
    "                    callbacks=[cp_callback])"
   ]
  },
  {
   "cell_type": "code",
   "execution_count": 10,
   "metadata": {},
   "outputs": [
    {
     "name": "stdout",
     "output_type": "stream",
     "text": [
      "Model: \"sequential_5\"\n",
      "_________________________________________________________________\n",
      "Layer (type)                 Output Shape              Param #   \n",
      "=================================================================\n",
      "sequential (Sequential)      multiple                  896       \n",
      "_________________________________________________________________\n",
      "sequential_1 (Sequential)    multiple                  74368     \n",
      "_________________________________________________________________\n",
      "sequential_2 (Sequential)    multiple                  887296    \n",
      "_________________________________________________________________\n",
      "sequential_3 (Sequential)    multiple                  3544064   \n",
      "_________________________________________________________________\n",
      "sequential_4 (Sequential)    multiple                  4723712   \n",
      "_________________________________________________________________\n",
      "flatten (Flatten)            multiple                  0         \n",
      "_________________________________________________________________\n",
      "dense (Dense)                multiple                  2101248   \n",
      "_________________________________________________________________\n",
      "dropout (Dropout)            multiple                  0         \n",
      "_________________________________________________________________\n",
      "dense_1 (Dense)              multiple                  16781312  \n",
      "_________________________________________________________________\n",
      "dropout_1 (Dropout)          multiple                  0         \n",
      "_________________________________________________________________\n",
      "dense_2 (Dense)              multiple                  40970     \n",
      "=================================================================\n",
      "Total params: 28,153,866\n",
      "Trainable params: 28,148,362\n",
      "Non-trainable params: 5,504\n",
      "_________________________________________________________________\n"
     ]
    }
   ],
   "source": [
    "# 打印网络结构\n",
    "model.summary()"
   ]
  },
  {
   "cell_type": "code",
   "execution_count": 11,
   "metadata": {},
   "outputs": [],
   "source": [
    "np.set_printoptions(threshold=np.inf)\n",
    "# 保存参数信息\n",
    "with open('./data/weights.txt', 'w') as file:\n",
    "    for v in model.trainable_variables:\n",
    "        file.write(str(v.name) + '\\n')\n",
    "        file.write(str(v.shape) + '\\n')\n",
    "        file.write(str(v.numpy()) + '\\n')"
   ]
  },
  {
   "cell_type": "code",
   "execution_count": 12,
   "metadata": {},
   "outputs": [],
   "source": [
    "# 获取 acc 和 loss 曲线数据\n",
    "acc = history.history['sparse_categorical_accuracy']\n",
    "val_acc = history.history['val_sparse_categorical_accuracy']\n",
    "loss = history.history['loss']\n",
    "val_loss = history.history['val_loss']"
   ]
  },
  {
   "cell_type": "code",
   "execution_count": 13,
   "metadata": {},
   "outputs": [
    {
     "data": {
      "image/png": "[encoded data removed]",
      "text/plain": [
       "<Figure size 432x288 with 1 Axes>"
      ]
     },
     "metadata": {
      "needs_background": "light"
     },
     "output_type": "display_data"
    }
   ],
   "source": [
    "# 可视化 acc 曲线\n",
    "plt.plot(acc, label='Training Accuracy')\n",
    "plt.plot(val_acc, label='Validation Accuracy')\n",
    "plt.title('Training and Validation Accuracy')\n",
    "plt.legend()\n",
    "plt.show()"
   ]
  },
  {
   "cell_type": "code",
   "execution_count": 14,
   "metadata": {},
   "outputs": [
    {
     "data": {
      "image/png": "[encoded data removed]",
      "text/plain": [
       "<Figure size 432x288 with 1 Axes>"
      ]
     },
     "metadata": {
      "needs_background": "light"
     },
     "output_type": "display_data"
    }
   ],
   "source": [
    "# 可视化 loss 曲线\n",
    "plt.plot(loss, label='Training Loss')\n",
    "plt.plot(val_loss, label='Validation Loss')\n",
    "plt.title('Training and Validation Loss')\n",
    "plt.legend()\n",
    "plt.show()"
   ]
  },
  {
   "cell_type": "code",
   "execution_count": null,
   "metadata": {},
   "outputs": [],
   "source": []
  }
 ],
 "metadata": {
  "kernelspec": {
   "display_name": "tensorflow 2.1",
   "language": "python",
   "name": "tf2"
  },
  "language_info": {
   "codemirror_mode": {
    "name": "ipython",
    "version": 3
   },
   "file_extension": ".py",
   "mimetype": "text/x-python",
   "name": "python",
   "nbconvert_exporter": "python",
   "pygments_lexer": "ipython3",
   "version": "3.7.7"
  }
 },
 "nbformat": 4,
 "nbformat_minor": 4
}
