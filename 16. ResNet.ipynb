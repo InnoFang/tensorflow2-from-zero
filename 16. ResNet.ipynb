{
 "cells": [
  {
   "cell_type": "markdown",
   "metadata": {},
   "source": [
    "## ResNet\n",
    "\n",
    "ResNet[1] 即深度残差网络（Deep Residual Network），它提出了层间残差跳连，引入前方信息，减少梯度消失，使神经网络层数增加成为可能，从而具有非常强大的表征能力。\n",
    "\n",
    "前面的介绍的四个网络，LeNet 有 5 层、AlexNet 有 8 层、VGGNet 有 16 和 19 层、InceptionNet v1（GoogLeNet）有 22 层，那么网络的精度会随着网络的层数的增加而增加吗？\n",
    "\n",
    "在之前的实践过程中发现，如果只是简单地堆叠网络层数，很容易导致梯度消失（爆炸）问题，虽然可以使用各种标准化操作来缓解这一现象，但是随着深度更深的网络也开始收敛，网络退化的问题也随之而来：随着网络深度的增加，准确率先是达到瓶颈，然后便开始迅速下降。而且这种退化并不是由过拟合引起的。对于一个深度比较合适的网络来说，继续增加层数反而会导致训练错误率的提升。在论文 [1] 中，作者在 CIFAR-10 数据集上做了实验，实验结果显示 56 层卷积神经网络的错误率要高于 20 层卷积神经网络的错误率:\n",
    "\n",
    "![](https://img-blog.csdn.net/20180616153149978?watermark/2/text/aHR0cHM6Ly9ibG9nLmNzZG4ubmV0L3UwMTM4NDExOTY=/font/5a6L5L2T/fontsize/400/fill/I0JBQkFCMA==/dissolve/70)\n",
    "\n",
    "因此认为单纯堆叠神经网络层数会使神经网络模型退化，以至于后面的特征丢失了前边特征的原本摸样。\n",
    "\n",
    "+ [1] He K , Zhang X , Ren S , et al. Deep Residual Learning for Image Recognition[C]// IEEE Conference on Computer Vision & Pattern Recognition. IEEE Computer Society, 2016."
   ]
  },
  {
   "cell_type": "code",
   "execution_count": 1,
   "metadata": {},
   "outputs": [],
   "source": [
    "import tensorflow as tf\n",
    "import numpy as np\n",
    "import os\n",
    "from matplotlib import pyplot as plt\n",
    "from tensorflow.keras.layers import Conv2D, BatchNormalization, Activation, MaxPool2D, Dropout, GlobalAveragePooling2D, Dense\n",
    "from tensorflow.keras import Model\n",
    "from tensorflow.keras.models import Sequential"
   ]
  },
  {
   "cell_type": "markdown",
   "metadata": {},
   "source": [
    "### ResNet 块\n",
    "\n",
    "![](https://img-blog.csdnimg.cn/201812171934125.png?x-oss-process=image/watermark,type_ZmFuZ3poZW5naGVpdGk,shadow_10,text_aHR0cHM6Ly9ibG9nLmNzZG4ubmV0L3dlaXhpbl80MzYyNDUzOA==,size_16,color_FFFFFF,t_70)\n",
    "\n",
    "这就是是 ResNet 的核心,残差结构，也叫残差块。引入残差结构最主要的目的就是解决网络层数不断加深时导致的梯度消失问题。在该结构中，ResNet 不再让下一层直接拟合我们想要得到的底层映射，而是令其对一种残差映射进行拟合，让输出结果包含了堆叠卷积的非线性输出 $F(x)$ 以及跳过两层堆叠卷积直接映射过来的恒等映射 $x$，让两者对应元素相加，即让原有映射变为 $F(x) + x$，对这种新的残差映射进行优化时，要比优化原有的非相关映射更为容易。这一操作有效缓解了神经网络模型堆叠导致的退化，使得神经网路可以向着更深层级发展。\n",
    "\n",
    "ResNet 块中有两种情况，一种情况如下图中的实线表示，这种情况两层堆叠卷积没有改变特征图的维度，即特征图的个数、高、宽和深度都相同，可以直接将 $F(x)$ 与 $x$ 相加；另一种情况如下图的虚线表示，两层堆叠卷积改变了特征图的维度，需要借助 $1\\times1$ 的卷积来调整 $x$ 的维度，使 $W(x)$ 与 $F(x)$ 的维度一致（$W(x)$ 是卷积操作）。\n",
    "\n",
    "![](http://innofang.gitee.io/pic/tensorflow2-from-zero/ResNetBlock.jpg)\n",
    "\n",
    "根据上面描述的 ResNet 中的残差结构，将 ResNet 块分成两种形式：\n",
    " + 堆叠卷积前后维度相同（上图中的实线）\n",
    " + 堆叠卷积前后维度不同（上图中的虚线）\n",
    " \n",
    "下面将这两种形式封装到一个 ResNet 块中，用一个变量 `residual_path` 来控制两种状态，为 `True` 则表示维度不同，再使用 $1\\times1$ 卷积核进行降维；又因为需要用到输入值进行额外的计算（加 $x$ 或 $W(x)$），所以输入值还需要另外的保存起来。ResNet 块内使用两次卷积：\n",
    " + 第一层卷积核大小为 $3\\times3$，使用全 0 填充，步长和个数由外部控制，使用批标准化和 ReLu 激活函数\n",
    " + 第二层卷积核大小为 $3\\times3$，使用全 0 填充，步长为1，个数由外部控制，使用批标准化，不使用激活函数\n",
    "\n",
    "在最后求得 $F(x)+x$ 或者 $F(x)+W(x)$ 后，还需要过一遍 ReLu 激活函数"
   ]
  },
  {
   "cell_type": "code",
   "execution_count": 2,
   "metadata": {},
   "outputs": [],
   "source": [
    "class ResidualBlock(Model):\n",
    "    def __init__(self, filters, strides=1, residual_path=False):\n",
    "        super(ResidualBlock, self).__init__()\n",
    "        self.residual_path = residual_path\n",
    "        \n",
    "        self.c1 = Conv2D(filters, kernel_size=(3, 3), padding='same', strides=strides, use_bias=False)\n",
    "        self.b1 = BatchNormalization()\n",
    "        self.a1 = Activation('relu')\n",
    "        \n",
    "        self.c2 = Conv2D(filters, kernel_size=(3, 3), padding='same', strides=1, use_bias=False)\n",
    "        self.b2 = BatchNormalization()\n",
    "        \n",
    "        # residual_path 为 True 时，卷积前后维度不同，对输入用 1x1 的卷积核进行下采样，保证 x 能和 F(x) 维度相同，顺利相加\n",
    "        if residual_path:\n",
    "            self.down_c1 = Conv2D(filters, kernel_size=(1, 1), padding='same', strides=strides, use_bias=False)\n",
    "            self.down_b1 = BatchNormalization()\n",
    "        \n",
    "        self.a2 = Activation('relu')\n",
    "        \n",
    "    def call(self, x):\n",
    "         # 保存原始输入 x\n",
    "        residual = x\n",
    "        \n",
    "        # 计算两层卷积\n",
    "        x = self.c1(x)\n",
    "        x = self.b1(x)\n",
    "        x = self.a1(x)\n",
    "        \n",
    "        x = self.c2(x)\n",
    "        x = self.b2(x)\n",
    "        \n",
    "        # 若维度不同，对原始输入 x 进一步计算得到 W(x)\n",
    "        if self.residual_path:\n",
    "            residual = self.down_c1(residual)\n",
    "            residual = self.down_b1(residual)\n",
    "        \n",
    "        # 最后的计算结果送入 ReLu 激活函数得到最终输出\n",
    "        y = self.a2(x + residual)\n",
    "        return y"
   ]
  },
  {
   "cell_type": "markdown",
   "metadata": {},
   "source": [
    "### ResNet 网络结构\n",
    "\n",
    "使用 ResNet 来训练 Fashion MNIST 数据集，网络一共 18 层：\n",
    " + 第一层：卷积层\n",
    "  + 64 个 $7\\times7$ 卷积核，步长为 2，使用全 0 填充（same）\n",
    "  + 使用批标准化\n",
    "  + 使用 ReLu 激活函数\n",
    "  + 使用 $3\\times3$ 的池化核，采用最大值池化，步长为 2，全 0 填充（same）\n",
    " + 中间使用 8 个 ResNet 块，共 16 层，如下图中由蓝色框住的部分所示：\n",
    " + 对以上传过来的特征图数据使用一次全局平均池化 （Global Average Pooling）\n",
    " + 第十层：全连接层\n",
    "  + 10 个神经元\n",
    "  + 使用 softmax 激活函数\n",
    "\n",
    "![](http://InnoFang.gitee.io/pic/tensorflow2-from-zero/ResNet18.jpg)\n",
    "\n",
    "对于中间连续的残差块，将其两两分为一组大块。可以发现除了第一个大块之外，后面的三个块都具有类似的结构：块内第一个残差块的卷积前后维度不同，第二个残差块的卷积前后维度相同。因此为了简化代码，可以使用函数进行简单的封装。定义一个 `resnet_block` 函数，参数列表如下：\n",
    " + channels：通道数\n",
    " + residuals：残差块个数\n",
    " + first_block：是否是第一个大块，第一个大块内的卷积前后维度一致，用来与后面三个大块进行区分"
   ]
  },
  {
   "cell_type": "code",
   "execution_count": 3,
   "metadata": {},
   "outputs": [],
   "source": [
    "def resnet_block(channels, residuals, first_block=False):\n",
    "        blk = Sequential()\n",
    "        for i in range(residuals):\n",
    "            if i == 0 and not first_block:\n",
    "                blk.add(ResidualBlock(channels, strides=2, residual_path=True))\n",
    "            else:\n",
    "                blk.add(ResidualBlock(channels))\n",
    "        return blk"
   ]
  },
  {
   "cell_type": "markdown",
   "metadata": {},
   "source": [
    "接下来就可以堆叠网络结构了"
   ]
  },
  {
   "cell_type": "code",
   "execution_count": 4,
   "metadata": {},
   "outputs": [],
   "source": [
    "resnet18 = [\n",
    "    Conv2D(64, kernel_size=(7, 7), strides=2, padding='same'),\n",
    "    BatchNormalization(),\n",
    "    Activation('relu'),\n",
    "    MaxPool2D(pool_size=(3, 3), strides=2, padding='same'),\n",
    "    resnet_block(64, 2, first_block=False),\n",
    "    resnet_block(128, 2),\n",
    "    resnet_block(256, 2),\n",
    "    resnet_block(512, 2),\n",
    "    GlobalAveragePooling2D(),\n",
    "    Dense(10, activation='softmax')\n",
    "]"
   ]
  },
  {
   "cell_type": "code",
   "execution_count": 5,
   "metadata": {},
   "outputs": [],
   "source": [
    "# 导入数据集\n",
    "(x_train, y_train), (x_test, y_test) = tf.keras.datasets.fashion_mnist.load_data() \n",
    "x_train, x_test = x_train / 255.0, x_test / 255.0\n",
    "x_train = x_train.reshape(x_train.shape[0], 28, 28, 1)\n",
    "x_test = x_test.reshape(x_test.shape[0], 28, 28, 1)"
   ]
  },
  {
   "cell_type": "code",
   "execution_count": 6,
   "metadata": {},
   "outputs": [],
   "source": [
    "# ResNet18\n",
    "model = Sequential(resnet18)"
   ]
  },
  {
   "cell_type": "code",
   "execution_count": 7,
   "metadata": {},
   "outputs": [],
   "source": [
    "# 配置模型参数\n",
    "model.compile(optimizer='adam',\n",
    "              loss=tf.keras.losses.SparseCategoricalCrossentropy(from_logits=False),\n",
    "              metrics=['sparse_categorical_accuracy'])"
   ]
  },
  {
   "cell_type": "code",
   "execution_count": 8,
   "metadata": {},
   "outputs": [],
   "source": [
    "# 设置断点续训\n",
    "checkpoint_save_path = './checkpoint/VGGNet16.ckpt'\n",
    "if os.path.exists(checkpoint_save_path + '.index'):\n",
    "    model.load_weights(checkpoint_save_path)"
   ]
  },
  {
   "cell_type": "code",
   "execution_count": 9,
   "metadata": {},
   "outputs": [],
   "source": [
    "# 设置保存最优模型参数回调\n",
    "cp_callback = tf.keras.callbacks.ModelCheckpoint(filepath=checkpoint_save_path,\n",
    "                                                save_best_only=True,\n",
    "                                                save_weights_only=True)"
   ]
  },
  {
   "cell_type": "code",
   "execution_count": 10,
   "metadata": {},
   "outputs": [
    {
     "name": "stdout",
     "output_type": "stream",
     "text": [
      "Train on 60000 samples, validate on 10000 samples\n",
      "Epoch 1/5\n",
      "60000/60000 [==============================] - 1773s 30ms/sample - loss: 0.5541 - sparse_categorical_accuracy: 0.8137 - val_loss: 0.8002 - val_sparse_categorical_accuracy: 0.6936\n",
      "Epoch 2/5\n",
      "60000/60000 [==============================] - 1721s 29ms/sample - loss: 0.3287 - sparse_categorical_accuracy: 0.8791 - val_loss: 0.3546 - val_sparse_categorical_accuracy: 0.8668\n",
      "Epoch 3/5\n",
      "60000/60000 [==============================] - 1770s 29ms/sample - loss: 0.2786 - sparse_categorical_accuracy: 0.8983 - val_loss: 0.3605 - val_sparse_categorical_accuracy: 0.8661\n",
      "Epoch 4/5\n",
      "60000/60000 [==============================] - 1694s 28ms/sample - loss: 0.2579 - sparse_categorical_accuracy: 0.9050 - val_loss: 0.3241 - val_sparse_categorical_accuracy: 0.8717\n",
      "Epoch 5/5\n",
      "60000/60000 [==============================] - 1756s 29ms/sample - loss: 0.2344 - sparse_categorical_accuracy: 0.9136 - val_loss: 0.3318 - val_sparse_categorical_accuracy: 0.8831\n"
     ]
    }
   ],
   "source": [
    "# 训练模型\n",
    "history = model.fit(x_train, y_train,\n",
    "                    batch_size=256,\n",
    "                    epochs=5,\n",
    "                    validation_data=(x_test, y_test),\n",
    "                    validation_freq=1,\n",
    "                    callbacks=[cp_callback])"
   ]
  },
  {
   "cell_type": "code",
   "execution_count": 11,
   "metadata": {},
   "outputs": [
    {
     "name": "stdout",
     "output_type": "stream",
     "text": [
      "Model: \"sequential_4\"\n",
      "_________________________________________________________________\n",
      "Layer (type)                 Output Shape              Param #   \n",
      "=================================================================\n",
      "conv2d (Conv2D)              multiple                  3200      \n",
      "_________________________________________________________________\n",
      "batch_normalization (BatchNo multiple                  256       \n",
      "_________________________________________________________________\n",
      "activation (Activation)      multiple                  0         \n",
      "_________________________________________________________________\n",
      "max_pooling2d (MaxPooling2D) multiple                  0         \n",
      "_________________________________________________________________\n",
      "sequential (Sequential)      multiple                  152832    \n",
      "_________________________________________________________________\n",
      "sequential_1 (Sequential)    multiple                  526848    \n",
      "_________________________________________________________________\n",
      "sequential_2 (Sequential)    multiple                  2102272   \n",
      "_________________________________________________________________\n",
      "sequential_3 (Sequential)    multiple                  8398848   \n",
      "_________________________________________________________________\n",
      "global_average_pooling2d (Gl multiple                  0         \n",
      "_________________________________________________________________\n",
      "dense (Dense)                multiple                  5130      \n",
      "=================================================================\n",
      "Total params: 11,189,386\n",
      "Trainable params: 11,179,658\n",
      "Non-trainable params: 9,728\n",
      "_________________________________________________________________\n"
     ]
    }
   ],
   "source": [
    "# 打印网络结构\n",
    "model.summary()"
   ]
  },
  {
   "cell_type": "code",
   "execution_count": 12,
   "metadata": {},
   "outputs": [],
   "source": [
    "np.set_printoptions(threshold=np.inf)\n",
    "# 保存参数信息\n",
    "with open('./data/weights.txt', 'w') as file:\n",
    "    for v in model.trainable_variables:\n",
    "        file.write(str(v.name) + '\\n')\n",
    "        file.write(str(v.shape) + '\\n')\n",
    "        file.write(str(v.numpy()) + '\\n')"
   ]
  },
  {
   "cell_type": "code",
   "execution_count": 13,
   "metadata": {},
   "outputs": [],
   "source": [
    "# 获取 acc 和 loss 曲线数据\n",
    "acc = history.history['sparse_categorical_accuracy']\n",
    "val_acc = history.history['val_sparse_categorical_accuracy']\n",
    "loss = history.history['loss']\n",
    "val_loss = history.history['val_loss']"
   ]
  },
  {
   "cell_type": "code",
   "execution_count": 14,
   "metadata": {},
   "outputs": [
    {
     "data": {
      "image/png": "[encoded data removed]",
      "text/plain": [
       "<Figure size 432x288 with 1 Axes>"
      ]
     },
     "metadata": {
      "needs_background": "light"
     },
     "output_type": "display_data"
    }
   ],
   "source": [
    "# 可视化 acc 曲线\n",
    "plt.plot(acc, label='Training Accuracy')\n",
    "plt.plot(val_acc, label='Validation Accuracy')\n",
    "plt.title('Training and Validation Accuracy')\n",
    "plt.legend()\n",
    "plt.show()"
   ]
  },
  {
   "cell_type": "code",
   "execution_count": 15,
   "metadata": {},
   "outputs": [
    {
     "data": {
      "image/png": "[encoded data removed]",
      "text/plain": [
       "<Figure size 432x288 with 1 Axes>"
      ]
     },
     "metadata": {
      "needs_background": "light"
     },
     "output_type": "display_data"
    }
   ],
   "source": [
    "# 可视化 loss 曲线\n",
    "plt.plot(loss, label='Training Loss')\n",
    "plt.plot(val_loss, label='Validation Loss')\n",
    "plt.title('Training and Validation Loss')\n",
    "plt.legend()\n",
    "plt.show()"
   ]
  },
  {
   "cell_type": "code",
   "execution_count": null,
   "metadata": {},
   "outputs": [],
   "source": []
  }
 ],
 "metadata": {
  "kernelspec": {
   "display_name": "tensorflow 2.1",
   "language": "python",
   "name": "tf2"
  },
  "language_info": {
   "codemirror_mode": {
    "name": "ipython",
    "version": 3
   },
   "file_extension": ".py",
   "mimetype": "text/x-python",
   "name": "python",
   "nbconvert_exporter": "python",
   "pygments_lexer": "ipython3",
   "version": "3.7.7"
  }
 },
 "nbformat": 4,
 "nbformat_minor": 4
}
