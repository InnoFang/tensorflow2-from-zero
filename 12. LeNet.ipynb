{
 "cells": [
  {
   "cell_type": "markdown",
   "metadata": {},
   "source": [
    "## LeNet\n",
    "\n",
    "LeNet[1] 即 LeNet5，于1988年提出，是最早的卷积神经网络之一。原论文的网络结构是用于训练手写数字的，本节尝试用 LeNet 训练 CIFAR-10 数据集，因此结构上会有点微调。一共有五层网络（不算输入层），两层卷积层和三层全连接层：\n",
    " + 第一层：卷积层\n",
    "  + C：使用 6 个 $5\\times5$ 的卷积核，步长为 1，非全 0 填充（valid）\n",
    "  + B：不使用批标准化（LeNet 提出时间在 Batch Normalization[2] 提出时间之前）\n",
    "  + A：使用 sigmoid 激活函数（那个时候是主流的激活函数）\n",
    "  + P：使用 $2\\times2$ 的池化核，采用最大值池化，步长为 2，非全 0 填充（valid）\n",
    "  + D：不使用 Dropout（LeNet 提出时间在 Dropout[3] 提出时间之前）\n",
    " + 第二层：卷积层\n",
    "  + C：使用 16 个 $5\\times5$ 的卷积核，步长为 1，非全 0 填充（valid）\n",
    "  + B：不使用批标准化\n",
    "  + A：使用 sigmoid 激活函数\n",
    "  + P：使用 $2\\times2$ 的池化核，采用最大值池化，步长为 2，非全 0 填充（valid）\n",
    "  + D：不使用 Dropout\n",
    " + Flatten 拉伸卷积层传来的输入特征 \n",
    " + 第三层：全连接层\n",
    "  + 120 个神经元\n",
    "  + 使用 sigmoid 激活函数 \n",
    " + 第四层：全连接层\n",
    "  + 84 个神经元\n",
    "  + 使用 sigmoid 激活函数\n",
    " + 第五层：全连接层（输出层）\n",
    "  + 10 个神经元\n",
    "  + 使用 softmax 激活函数\n",
    "\n",
    "关于 CIFAR-10 数据集的信息可以看上一节。\n",
    "\n",
    "+ [1] Lecun Y , Bottou L . Gradient-based learning applied to document recognition[J]. Proceedings of the IEEE, 1998, 86(11):2278-2324.\n",
    "+ [2] Ioffe S , Szegedy C . Batch Normalization: Accelerating Deep Network Training by Reducing Internal Covariate Shift[J]. 2015.\n",
    "+ [3] Srivastava N , Hinton G , Krizhevsky A , et al. Dropout: A Simple Way to Prevent Neural Networks from Overfitting[J]. Journal of Machine Learning Research, 2014, 15(1):1929-1958."
   ]
  },
  {
   "cell_type": "code",
   "execution_count": 1,
   "metadata": {},
   "outputs": [],
   "source": [
    "import tensorflow as tf\n",
    "import numpy as np\n",
    "import os\n",
    "from matplotlib import pyplot as plt\n",
    "from tensorflow.keras.layers import Conv2D, BatchNormalization, Activation, MaxPool2D, Dropout, Flatten, Dense\n",
    "from tensorflow.keras import Model"
   ]
  },
  {
   "cell_type": "markdown",
   "metadata": {},
   "source": [
    "在上一版 baseline 的基础上，修改模型类即可，其他步骤的操作基本不改变。"
   ]
  },
  {
   "cell_type": "code",
   "execution_count": 2,
   "metadata": {},
   "outputs": [],
   "source": [
    "class LeNet5(Model):\n",
    "    def __init__(self):\n",
    "        super(LeNet5, self).__init__()\n",
    "        self.c1 = Conv2D(filters=6, kernel_size=(5, 5), activation='sigmoid')\n",
    "        self.p1 = MaxPool2D(pool_size=(2, 2), strides=2)\n",
    "        \n",
    "        self.c2 = Conv2D(filters=16, kernel_size=(5, 5), activation='sigmoid')\n",
    "        self.p2 = MaxPool2D(pool_size=(2, 2), strides=2)\n",
    "        \n",
    "        self.flatten = Flatten()\n",
    "        self.f1 = Dense(120, activation='sigmoid')\n",
    "        self.f2 = Dense(84, activation='sigmoid')\n",
    "        self.f3 = Dense(10, activation='softmax')\n",
    "        \n",
    "    def call(self, x):\n",
    "        x = self.c1(x)\n",
    "        x = self.p1(x)\n",
    "        \n",
    "        x = self.c2(x)\n",
    "        x = self.p2(x)\n",
    "        \n",
    "        x = self.flatten(x)\n",
    "        x = self.f1(x)\n",
    "        x = self.f2(x)\n",
    "        y = self.f3(x)\n",
    "        return y"
   ]
  },
  {
   "cell_type": "code",
   "execution_count": 3,
   "metadata": {},
   "outputs": [],
   "source": [
    "# 导入数据集\n",
    "(x_train, y_train), (x_test, y_test) = tf.keras.datasets.cifar10.load_data() \n",
    "x_train, x_test = x_train / 255.0, x_test / 255.0"
   ]
  },
  {
   "cell_type": "code",
   "execution_count": 4,
   "metadata": {},
   "outputs": [],
   "source": [
    "# LeNet5 \n",
    "model = LeNet5()"
   ]
  },
  {
   "cell_type": "code",
   "execution_count": 5,
   "metadata": {},
   "outputs": [],
   "source": [
    "# 配置模型参数\n",
    "model.compile(optimizer='adam',\n",
    "              loss=tf.keras.losses.SparseCategoricalCrossentropy(from_logits=False),\n",
    "              metrics=['sparse_categorical_accuracy'])"
   ]
  },
  {
   "cell_type": "code",
   "execution_count": 6,
   "metadata": {},
   "outputs": [],
   "source": [
    "# 设置断点续训\n",
    "checkpoint_save_path = './checkpoint/LeNet5.ckpt'\n",
    "if os.path.exists(checkpoint_save_path + '.index'):\n",
    "    model.load_weights(checkpoint_save_path)"
   ]
  },
  {
   "cell_type": "code",
   "execution_count": 7,
   "metadata": {},
   "outputs": [],
   "source": [
    "# 设置保存最优模型参数回调\n",
    "cp_callback = tf.keras.callbacks.ModelCheckpoint(filepath=checkpoint_save_path,\n",
    "                                                save_best_only=True,\n",
    "                                                save_weights_only=True)"
   ]
  },
  {
   "cell_type": "code",
   "execution_count": 8,
   "metadata": {},
   "outputs": [
    {
     "name": "stdout",
     "output_type": "stream",
     "text": [
      "Train on 50000 samples, validate on 10000 samples\n",
      "Epoch 1/5\n",
      "50000/50000 [==============================] - 26s 525us/sample - loss: 2.0492 - sparse_categorical_accuracy: 0.2279 - val_loss: 1.8164 - val_sparse_categorical_accuracy: 0.3197arse_c - ETA\n",
      "Epoch 2/5\n",
      "50000/50000 [==============================] - 30s 598us/sample - loss: 1.7288 - sparse_categorical_accuracy: 0.3565 - val_loss: 1.6128 - val_sparse_categorical_accuracy: 0.3988\n",
      "Epoch 3/5\n",
      "50000/50000 [==============================] - 32s 631us/sample - loss: 1.5775 - sparse_categorical_accuracy: 0.4175 - val_loss: 1.5036 - val_sparse_categorical_accuracy: 0.4420\n",
      "Epoch 4/5\n",
      "50000/50000 [==============================] - 28s 565us/sample - loss: 1.4895 - sparse_categorical_accuracy: 0.4509 - val_loss: 1.4669 - val_sparse_categorical_accuracy: 0.4613\n",
      "Epoch 5/5\n",
      "50000/50000 [==============================] - 26s 525us/sample - loss: 1.4358 - sparse_categorical_accuracy: 0.4739 - val_loss: 1.4286 - val_sparse_categorical_accuracy: 0.4744\n"
     ]
    }
   ],
   "source": [
    "# 训练模型\n",
    "history = model.fit(x_train, y_train,\n",
    "                    batch_size=32,\n",
    "                    epochs=5,\n",
    "                    validation_data=(x_test, y_test),\n",
    "                    validation_freq=1,\n",
    "                    callbacks=[cp_callback])"
   ]
  },
  {
   "cell_type": "code",
   "execution_count": 9,
   "metadata": {},
   "outputs": [
    {
     "name": "stdout",
     "output_type": "stream",
     "text": [
      "Model: \"le_net5\"\n",
      "_________________________________________________________________\n",
      "Layer (type)                 Output Shape              Param #   \n",
      "=================================================================\n",
      "conv2d (Conv2D)              multiple                  456       \n",
      "_________________________________________________________________\n",
      "max_pooling2d (MaxPooling2D) multiple                  0         \n",
      "_________________________________________________________________\n",
      "conv2d_1 (Conv2D)            multiple                  2416      \n",
      "_________________________________________________________________\n",
      "max_pooling2d_1 (MaxPooling2 multiple                  0         \n",
      "_________________________________________________________________\n",
      "flatten (Flatten)            multiple                  0         \n",
      "_________________________________________________________________\n",
      "dense (Dense)                multiple                  48120     \n",
      "_________________________________________________________________\n",
      "dense_1 (Dense)              multiple                  10164     \n",
      "_________________________________________________________________\n",
      "dense_2 (Dense)              multiple                  850       \n",
      "=================================================================\n",
      "Total params: 62,006\n",
      "Trainable params: 62,006\n",
      "Non-trainable params: 0\n",
      "_________________________________________________________________\n"
     ]
    }
   ],
   "source": [
    "# 打印网络结构\n",
    "model.summary()"
   ]
  },
  {
   "cell_type": "code",
   "execution_count": 10,
   "metadata": {},
   "outputs": [],
   "source": [
    "np.set_printoptions(threshold=np.inf)\n",
    "# 保存参数信息\n",
    "with open('./data/weights.txt', 'w') as file:\n",
    "    for v in model.trainable_variables:\n",
    "        file.write(str(v.name) + '\\n')\n",
    "        file.write(str(v.shape) + '\\n')\n",
    "        file.write(str(v.numpy()) + '\\n')"
   ]
  },
  {
   "cell_type": "code",
   "execution_count": 11,
   "metadata": {},
   "outputs": [],
   "source": [
    "# 可视化 acc 和 loss 曲线\n",
    "acc = history.history['sparse_categorical_accuracy']\n",
    "val_acc = history.history['val_sparse_categorical_accuracy']\n",
    "loss = history.history['loss']\n",
    "val_loss = history.history['val_loss']"
   ]
  },
  {
   "cell_type": "code",
   "execution_count": 12,
   "metadata": {},
   "outputs": [
    {
     "data": {
      "image/png": "[encoded data removed]",
      "text/plain": [
       "<Figure size 432x288 with 1 Axes>"
      ]
     },
     "metadata": {
      "needs_background": "light"
     },
     "output_type": "display_data"
    }
   ],
   "source": [
    "plt.plot(acc, label='Training Accuracy')\n",
    "plt.plot(val_acc, label='Validation Accuracy')\n",
    "plt.title('Training and Validation Accuracy')\n",
    "plt.legend()\n",
    "plt.show()"
   ]
  },
  {
   "cell_type": "code",
   "execution_count": 13,
   "metadata": {},
   "outputs": [
    {
     "data": {
      "image/png": "[encoded data removed]",
      "text/plain": [
       "<Figure size 432x288 with 1 Axes>"
      ]
     },
     "metadata": {
      "needs_background": "light"
     },
     "output_type": "display_data"
    }
   ],
   "source": [
    "plt.plot(loss, label='Training Loss')\n",
    "plt.plot(val_loss, label='Validation Loss')\n",
    "plt.title('Training and Validation Loss')\n",
    "plt.legend()\n",
    "plt.show()"
   ]
  },
  {
   "cell_type": "code",
   "execution_count": null,
   "metadata": {},
   "outputs": [],
   "source": []
  }
 ],
 "metadata": {
  "kernelspec": {
   "display_name": "tensorflow 2.1",
   "language": "python",
   "name": "tf2"
  },
  "language_info": {
   "codemirror_mode": {
    "name": "ipython",
    "version": 3
   },
   "file_extension": ".py",
   "mimetype": "text/x-python",
   "name": "python",
   "nbconvert_exporter": "python",
   "pygments_lexer": "ipython3",
   "version": "3.7.7"
  }
 },
 "nbformat": 4,
 "nbformat_minor": 4
}
