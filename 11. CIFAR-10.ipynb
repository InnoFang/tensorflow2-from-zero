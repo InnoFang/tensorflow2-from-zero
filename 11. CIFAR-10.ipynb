{
 "cells": [
  {
   "cell_type": "markdown",
   "metadata": {},
   "source": [
    "## 使用 CNN 训练 CIFAR-10 数据集\n",
    "\n",
    "上一节只要是介绍了 CNN 的基本流程和一些概念，这一节就是具体的 CNN 实践，用到的是 CIFAR-10 数据集。"
   ]
  },
  {
   "cell_type": "code",
   "execution_count": 1,
   "metadata": {},
   "outputs": [],
   "source": [
    "import tensorflow as tf\n",
    "import numpy as np\n",
    "import matplotlib.pyplot as plt"
   ]
  },
  {
   "cell_type": "markdown",
   "metadata": {},
   "source": [
    "### CIFAR-10 数据集\n",
    "\n",
    "+ 提供 5万张 $32\\times32$ 像素点的十分类彩色图片和标签，用于训练。\n",
    "+ 提供 1万张 $32\\times32$ 像素点的十分类彩色图片和标签，用于测试。\n",
    "\n",
    "其中十个分类及其数字标签分别是：\n",
    "0. 飞机（airplane）\n",
    "1. 汽车（automobile）\n",
    "2. 鸟（bird\n",
    "3. 猫（cat）\n",
    "4. 鹿（deer）\n",
    "5. 狗（dog）\n",
    "6. 青蛙（frog）\n",
    "7. 马（horse）\n",
    "8. 船（ship）\n",
    "9. 卡车（truck）\n"
   ]
  },
  {
   "cell_type": "code",
   "execution_count": 2,
   "metadata": {},
   "outputs": [],
   "source": [
    "cifar10 = tf.keras.datasets.cifar10"
   ]
  },
  {
   "cell_type": "code",
   "execution_count": 3,
   "metadata": {},
   "outputs": [],
   "source": [
    "(x_train, y_train), (x_test, y_test) = cifar10.load_data()"
   ]
  },
  {
   "cell_type": "code",
   "execution_count": 4,
   "metadata": {},
   "outputs": [
    {
     "data": {
      "image/png": "[encoded data removed]",
      "text/plain": [
       "<Figure size 432x288 with 1 Axes>"
      ]
     },
     "metadata": {
      "needs_background": "light"
     },
     "output_type": "display_data"
    }
   ],
   "source": [
    "plt.imshow(x_train[0])\n",
    "plt.show()"
   ]
  },
  {
   "cell_type": "code",
   "execution_count": 5,
   "metadata": {},
   "outputs": [
    {
     "data": {
      "text/plain": [
       "array([6], dtype=uint8)"
      ]
     },
     "execution_count": 5,
     "metadata": {},
     "output_type": "execute_result"
    }
   ],
   "source": [
    "y_train[0]"
   ]
  },
  {
   "cell_type": "code",
   "execution_count": 6,
   "metadata": {},
   "outputs": [
    {
     "data": {
      "text/plain": [
       "(50000, 32, 32, 3)"
      ]
     },
     "execution_count": 6,
     "metadata": {},
     "output_type": "execute_result"
    }
   ],
   "source": [
    "x_train.shape"
   ]
  },
  {
   "cell_type": "code",
   "execution_count": 7,
   "metadata": {},
   "outputs": [
    {
     "data": {
      "text/plain": [
       "(50000, 1)"
      ]
     },
     "execution_count": 7,
     "metadata": {},
     "output_type": "execute_result"
    }
   ],
   "source": [
    "y_train.shape"
   ]
  },
  {
   "cell_type": "code",
   "execution_count": 8,
   "metadata": {},
   "outputs": [
    {
     "data": {
      "text/plain": [
       "(10000, 32, 32, 3)"
      ]
     },
     "execution_count": 8,
     "metadata": {},
     "output_type": "execute_result"
    }
   ],
   "source": [
    "x_test.shape"
   ]
  },
  {
   "cell_type": "code",
   "execution_count": 9,
   "metadata": {},
   "outputs": [
    {
     "data": {
      "text/plain": [
       "(10000, 1)"
      ]
     },
     "execution_count": 9,
     "metadata": {},
     "output_type": "execute_result"
    }
   ],
   "source": [
    "y_test.shape"
   ]
  },
  {
   "cell_type": "markdown",
   "metadata": {},
   "source": [
    "### 搭建卷积神经网络\n",
    "\n",
    "本次用于训练 CIFAR-10 数据集的网络结构，有三层网络（不算输入层）：一层卷积层和两层全连接层。基本参数如下：\n",
    "\n",
    "**注** CBAPD 即 **C**onvolutional、**B**atch Normalization、**A**ctivation、**P**ooling、**D**ropout\n",
    "\n",
    " + 第一层：卷积层\n",
    "  + C：使用 6 个 $5\\times5$ 的卷积核，步长为 1，全 0 填充（same）\n",
    "  + B：使用批标准化\n",
    "  + A：使用 ReLu 激活函数\n",
    "  + P：使用 $2\\times2$ 的池化核，采用最大值池化，步长为 2，全 0 填充（same）\n",
    "  + D：Droput 概率为 0.2\n",
    " + Flatten 拉伸卷积层传来的输入特征\n",
    " + 第二层：全连接层\n",
    "  + 128 个神经元\n",
    "  + 使用 ReLu 激活函数\n",
    "  + Dropout 概率为 0.2\n",
    " + 第三层：全连接层（输出层）\n",
    "  + 10 个神经元\n",
    "  + 使用 softmax 激活函数\n",
    "  \n",
    "因为网络结构过于复杂，所以建议使用继承 Model 类的方式实现网络结构。本次实现的是 CNN 的 baseline 版本，后续会在该 baseline 版本的基础上不断改进网络结构。"
   ]
  },
  {
   "cell_type": "code",
   "execution_count": 10,
   "metadata": {},
   "outputs": [],
   "source": [
    "from tensorflow.keras.models import Model\n",
    "from tensorflow.keras.layers import Conv2D, BatchNormalization, Activation, MaxPool2D, Dropout, Flatten, Dense\n",
    "import os"
   ]
  },
  {
   "cell_type": "code",
   "execution_count": 11,
   "metadata": {},
   "outputs": [],
   "source": [
    "class Baseline(Model):\n",
    "    def __init__(self):\n",
    "        super(Baseline, self).__init__()\n",
    "        self.c1 = Conv2D(filters=6, kernel_size=(5, 5), padding='same')\n",
    "        self.b1 = BatchNormalization()\n",
    "        self.a1 = Activation('relu')\n",
    "        self.p1 = MaxPool2D(pool_size=(2, 2), strides=2, padding='same')\n",
    "        self.d1 = Dropout(0.2)\n",
    "    \n",
    "        self.flatten = Flatten()\n",
    "        self.f1 = Dense(128, activation='relu')\n",
    "        self.d2 = Dropout(0.2)\n",
    "        \n",
    "        self.f2 = Dense(10, activation='softmax')\n",
    "        \n",
    "        \n",
    "    def call(self, x):\n",
    "        x = self.c1(x)\n",
    "        x = self.b1(x)\n",
    "        x = self.a1(x)\n",
    "        x = self.p1(x)\n",
    "        x = self.d1(x)\n",
    "        \n",
    "        x = self.flatten(x)\n",
    "        x = self.f1(x)\n",
    "        x = self.d2(x)\n",
    "        y = self.f2(x)\n",
    "        return y"
   ]
  },
  {
   "cell_type": "markdown",
   "metadata": {},
   "source": [
    "基于之前“六步法”搭建神经网络的经验，逐步写出代码："
   ]
  },
  {
   "cell_type": "code",
   "execution_count": 12,
   "metadata": {},
   "outputs": [],
   "source": [
    "# 归一化\n",
    "x_train, x_test = x_train / 255.0, x_test / 255.0"
   ]
  },
  {
   "cell_type": "code",
   "execution_count": 13,
   "metadata": {},
   "outputs": [],
   "source": [
    "model = Baseline()"
   ]
  },
  {
   "cell_type": "code",
   "execution_count": 14,
   "metadata": {},
   "outputs": [],
   "source": [
    "# 配置模型参数\n",
    "model.compile(optimizer='adam', \n",
    "              loss=tf.keras.losses.SparseCategoricalCrossentropy(from_logits=False), \n",
    "              metrics=['sparse_categorical_accuracy'])"
   ]
  },
  {
   "cell_type": "code",
   "execution_count": 15,
   "metadata": {},
   "outputs": [],
   "source": [
    "# 设置断点续训\n",
    "checkpoint_save_path = './checkpoint/Baseline.ckpt'\n",
    "if os.path.exists(checkpoint_save_path + '.index'):\n",
    "    model.load_weights(checkpoint_save_path)"
   ]
  },
  {
   "cell_type": "code",
   "execution_count": 16,
   "metadata": {},
   "outputs": [],
   "source": [
    "# 设置保存最优模型参数回调\n",
    "cp_callback = tf.keras.callbacks.ModelCheckpoint(filepath=checkpoint_save_path,\n",
    "                                                save_weights_only=True,\n",
    "                                                save_best_only=True)"
   ]
  },
  {
   "cell_type": "code",
   "execution_count": 17,
   "metadata": {},
   "outputs": [
    {
     "name": "stdout",
     "output_type": "stream",
     "text": [
      "Train on 50000 samples, validate on 10000 samples\n",
      "Epoch 1/5\n",
      "50000/50000 [==============================] - 52s 1ms/sample - loss: 1.2402 - sparse_categorical_accuracy: 0.5563 - val_loss: 1.1496 - val_sparse_categorical_accuracy: 0.5937\n",
      "Epoch 2/5\n",
      "50000/50000 [==============================] - 48s 958us/sample - loss: 1.2120 - sparse_categorical_accuracy: 0.5685 - val_loss: 1.1529 - val_sparse_categorical_accuracy: 0.5891\n",
      "Epoch 3/5\n",
      "50000/50000 [==============================] - 50s 1ms/sample - loss: 1.1822 - sparse_categorical_accuracy: 0.5788 - val_loss: 1.2849 - val_sparse_categorical_accuracy: 0.5486\n",
      "Epoch 4/5\n",
      "50000/50000 [==============================] - 48s 952us/sample - loss: 1.1570 - sparse_categorical_accuracy: 0.5889 - val_loss: 1.1373 - val_sparse_categorical_accuracy: 0.6008- l\n",
      "Epoch 5/5\n",
      "50000/50000 [==============================] - 48s 955us/sample - loss: 1.1398 - sparse_categorical_accuracy: 0.5957 - val_loss: 1.1785 - val_sparse_categorical_accuracy: 0.5848\n"
     ]
    }
   ],
   "source": [
    "# 训练模型\n",
    "history = model.fit(x_train, y_train,\n",
    "                   batch_size=32,\n",
    "                   epochs=5,\n",
    "                   validation_data=(x_test, y_test),\n",
    "                   validation_freq=1,\n",
    "                   callbacks=[cp_callback])"
   ]
  },
  {
   "cell_type": "code",
   "execution_count": 18,
   "metadata": {},
   "outputs": [
    {
     "name": "stdout",
     "output_type": "stream",
     "text": [
      "Model: \"baseline\"\n",
      "_________________________________________________________________\n",
      "Layer (type)                 Output Shape              Param #   \n",
      "=================================================================\n",
      "conv2d (Conv2D)              multiple                  456       \n",
      "_________________________________________________________________\n",
      "batch_normalization (BatchNo multiple                  24        \n",
      "_________________________________________________________________\n",
      "activation (Activation)      multiple                  0         \n",
      "_________________________________________________________________\n",
      "max_pooling2d (MaxPooling2D) multiple                  0         \n",
      "_________________________________________________________________\n",
      "dropout (Dropout)            multiple                  0         \n",
      "_________________________________________________________________\n",
      "flatten (Flatten)            multiple                  0         \n",
      "_________________________________________________________________\n",
      "dense (Dense)                multiple                  196736    \n",
      "_________________________________________________________________\n",
      "dropout_1 (Dropout)          multiple                  0         \n",
      "_________________________________________________________________\n",
      "dense_1 (Dense)              multiple                  1290      \n",
      "=================================================================\n",
      "Total params: 198,506\n",
      "Trainable params: 198,494\n",
      "Non-trainable params: 12\n",
      "_________________________________________________________________\n"
     ]
    }
   ],
   "source": [
    "# 打印网络结构\n",
    "model.summary()"
   ]
  },
  {
   "cell_type": "code",
   "execution_count": 19,
   "metadata": {},
   "outputs": [],
   "source": [
    "np.set_printoptions(threshold=np.inf)\n",
    "# 保存参数信息\n",
    "with open('./data/weights.txt', 'w') as file:\n",
    "    for v in model.trainable_variables:\n",
    "        file.write(str(v.name) + '\\n')\n",
    "        file.write(str(v.shape) + '\\n')\n",
    "        file.write(str(v.numpy()) + '\\n')"
   ]
  },
  {
   "cell_type": "code",
   "execution_count": 20,
   "metadata": {},
   "outputs": [],
   "source": [
    "# 获取 acc 和 loss 曲线数据\n",
    "acc = history.history['sparse_categorical_accuracy']\n",
    "val_acc = history.history['val_sparse_categorical_accuracy']\n",
    "loss = history.history['loss']\n",
    "val_loss = history.history['val_loss']"
   ]
  },
  {
   "cell_type": "code",
   "execution_count": 21,
   "metadata": {},
   "outputs": [
    {
     "data": {
      "image/png": "[encoded data removed]",
      "text/plain": [
       "<Figure size 432x288 with 1 Axes>"
      ]
     },
     "metadata": {
      "needs_background": "light"
     },
     "output_type": "display_data"
    }
   ],
   "source": [
    "# 可视化 acc 曲线\n",
    "plt.plot(acc, label='Training Accuracy')\n",
    "plt.plot(val_acc, label='Validation Accuracy')\n",
    "plt.title('Training and Validation Accuracy')\n",
    "plt.legend()\n",
    "plt.show()"
   ]
  },
  {
   "cell_type": "code",
   "execution_count": 22,
   "metadata": {},
   "outputs": [
    {
     "data": {
      "image/png": "[encoded data removed]",
      "text/plain": [
       "<Figure size 432x288 with 1 Axes>"
      ]
     },
     "metadata": {
      "needs_background": "light"
     },
     "output_type": "display_data"
    }
   ],
   "source": [
    "# 可视化 loss 曲线\n",
    "plt.plot(loss, label='Training Loss')\n",
    "plt.plot(val_loss, label='Validation Loss')\n",
    "plt.title('Training and Validation Loss')\n",
    "plt.legend()\n",
    "plt.show()"
   ]
  },
  {
   "cell_type": "code",
   "execution_count": null,
   "metadata": {},
   "outputs": [],
   "source": []
  }
 ],
 "metadata": {
  "kernelspec": {
   "display_name": "tensorflow 2.1",
   "language": "python",
   "name": "tf2"
  },
  "language_info": {
   "codemirror_mode": {
    "name": "ipython",
    "version": 3
   },
   "file_extension": ".py",
   "mimetype": "text/x-python",
   "name": "python",
   "nbconvert_exporter": "python",
   "pygments_lexer": "ipython3",
   "version": "3.7.7"
  }
 },
 "nbformat": 4,
 "nbformat_minor": 4
}
