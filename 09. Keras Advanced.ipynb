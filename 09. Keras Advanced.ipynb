{
 "cells": [
  {
   "cell_type": "markdown",
   "metadata": {},
   "source": [
    "## 使用 tf.keras 搭建神经网络-扩展\n",
    "\n",
    "使用 “六步法” 搭建神经网络可以快速高效的完成简单的任务，特别是有着各种 API 的加持，更使得这些编码过程非常顺利。但是面对一些实际的任务场景，是否还可以有更多的思考？比如：\n",
    " + Q1: 如果有了自己本领域的数据与标签，如何给出 `x_train`、`y_train`、`x_test`、`y_test`？\n",
    " + Q2: 如何解决数据量过少，模型见识不足，导致训练出来的模型泛化力弱的问题？\n",
    " + Q3: 如果模型训练每次都从零开始，是件很不划算的事，如何改善呢？\n",
    " + Q4: 如何获取各层网络最优的参数并保存，并在下一次的使用中复现出模型？\n",
    " + Q5: 训练效果如何可视化？\n",
    " + Q6: 训练出来的模型如何应用？\n",
    " \n",
    " \n",
    "以上只是一些简单的思考，但是针对以上问题，提出以下的解决方案，为之前的“六步法”进行一些扩展，使得其更具有实用性：\n",
    " + A1: 自制数据集，解决本领域应用\n",
    " + A2: 数据增强，扩充数据集\n",
    " + A3: 断点续训，存取最优模型\n",
    " + A4: 参数提取，把参数存入文本\n",
    " + A5: 可视化 acc 和 loss 曲线，查看训练效果 \n",
    " + A6: 应用模型对新数据进行预测\n",
    " \n",
    "接下来将在之前使用简单 “六步法” 实现手写数字识别的基础上进行改进"
   ]
  },
  {
   "cell_type": "code",
   "execution_count": 1,
   "metadata": {},
   "outputs": [],
   "source": [
    "import tensorflow as tf\n",
    "import numpy as np\n",
    "import matplotlib.pyplot as plt\n",
    "from PIL import Image\n",
    "import os"
   ]
  },
  {
   "cell_type": "markdown",
   "metadata": {},
   "source": [
    "### 1. 自制数据集，解决本领域应用\n",
    "\n",
    "这一步，需要使用自定义格式的 MNIST 数据集，在目录 `./data/mnist_image_label` 下，具有：\n",
    " + `mnist_train_jpg_60000` 用于训练的 60000 张手写数字图片\n",
    " + `mnist_train_jpg_60000.txt` 训练数据的标签文件\n",
    " + `mnist_test_jpg_10000` 用于测试的 10000 张手写数字图片\n",
    " + `mnist_test_jpg_10000.txt` 测试数据的标签文件\n",
    "\n",
    "对于标签文件的格式说明：`手写数字图片名称 标签`\n",
    "```\n",
    "2028_7.jpg 7\n",
    "3933_2.jpg 2\n",
    "8299_5.jpg 5\n",
    "7726_4.jpg 4\n",
    "9874_2.jpg 2\n",
    "```\n",
    "\n",
    "我们的工作就是把之前的 `mnist.load_data()` 给替换掉，使用自己写的函数得到这部分数据集的 `x_train`、`y_train`、`x_test`、`y_test`"
   ]
  },
  {
   "cell_type": "code",
   "execution_count": 2,
   "metadata": {},
   "outputs": [],
   "source": [
    "# img_dir: 图片存放的目录\n",
    "# label_txt: 标签文件\n",
    "def gen_dataset(img_dir, label_txt):\n",
    "    # 使用只读打开标签文件\n",
    "    with open(label_txt, 'r') as f:\n",
    "        x, y = [], []\n",
    "        for line in f.readlines():\n",
    "            img_name, label = line.split()\n",
    "            # 读入图片\n",
    "            img = Image.open(img_dir + img_name)\n",
    "            # 图片变为 8 位宽度的灰度值\n",
    "            img = np.array(img.convert('L'))\n",
    "            # 数据归一化\n",
    "            img = img / 255\n",
    "            x.append(img)\n",
    "            y.append(label)\n",
    "        x = np.array(x)\n",
    "        y = np.array(y).astype(np.int64)\n",
    "        return x, y"
   ]
  },
  {
   "cell_type": "markdown",
   "metadata": {},
   "source": [
    "这样我们只需要传入图片所在目录以及标签所在文件路径就可以获取到我们需要的数据了。那么是否还可以改进呢？首先要思考的时候，是否有必要在每次获取数据时都构造一遍数据集呢？很明显是没必要的。其实在每次构造完数据集后，都可以将数据集保存起来，当下次要使用的时候先检查是否已有保存好的数据集，如若没有，再去构造数据集。"
   ]
  },
  {
   "cell_type": "code",
   "execution_count": 3,
   "metadata": {},
   "outputs": [],
   "source": [
    "# 定义变量\n",
    "train_dir = './data/mnist_image_label/mnist_train_jpg_60000/'\n",
    "train_label_txt = './data/mnist_image_label/mnist_train_jpg_60000.txt'\n",
    "\n",
    "test_dir = './data/mnist_image_label/mnist_test_jpg_10000/'\n",
    "test_label_txt = './data/mnist_image_label/mnist_test_jpg_10000.txt'"
   ]
  },
  {
   "cell_type": "code",
   "execution_count": 4,
   "metadata": {},
   "outputs": [],
   "source": [
    "def load_data(x_train_path, y_train_path, x_test_path, y_test_path):\n",
    "    # 文件保存的位置应封装在函数内部，因为使用者并不关心文件存取细节\n",
    "    x_train_save_path = './data/mnist_image_label/mnist_x_train.npy'\n",
    "    y_train_save_path = './data/mnist_image_label/mnist_y_train.npy'\n",
    "    x_test_save_path = './data/mnist_image_label/mnist_x_test.npy'\n",
    "    y_test_save_path = './data/mnist_image_label/mnist_y_test.npy'\n",
    "    if os.path.exists(x_train_save_path) and os.path.exists(y_train_save_path) and os.path.exists(x_test_save_path) and os.path.exists(y_test_save_path):\n",
    "        # 数据集格式已保存则直接加载\n",
    "        x_train_save = np.load(x_train_save_path)\n",
    "        y_train = np.load(y_train_save_path)\n",
    "        x_test_save = np.load(x_test_save_path)\n",
    "        y_test = np.load(y_test_save_path)\n",
    "        x_train = np.reshape(x_train_save, (len(x_train_save), 28, 28))\n",
    "        x_test = np.reshape(x_test_save, (len(x_test_save), 28, 28))\n",
    "        return (x_train, y_train), (x_test, y_test)\n",
    "    else:\n",
    "        # 生成数据集\n",
    "        x_train, y_train = gen_dataset(x_train_path, y_train_path)\n",
    "        x_test, y_test = gen_dataset(x_test_path, y_test_path)\n",
    "        \n",
    "        # 保存数据集\n",
    "        x_train_save = np.reshape(x_train, (len(x_train), -1))\n",
    "        x_test_save = np.reshape(x_test, (len(x_test), -1))\n",
    "        np.save(x_train_save_path, x_train_save)\n",
    "        np.save(y_train_save_path, y_train)\n",
    "        np.save(x_test_save_path, x_test_save)\n",
    "        np.save(y_test_save_path, y_test)\n",
    "        return (x_train, y_train), (x_test, y_test)"
   ]
  },
  {
   "cell_type": "code",
   "execution_count": 5,
   "metadata": {},
   "outputs": [],
   "source": [
    "# 读取数据集\n",
    "(x_train, y_train), (x_test, y_test) = load_data(train_dir, train_label_txt, test_dir, test_label_txt)"
   ]
  },
  {
   "cell_type": "code",
   "execution_count": 6,
   "metadata": {},
   "outputs": [
    {
     "data": {
      "text/plain": [
       "(60000, 28, 28)"
      ]
     },
     "execution_count": 6,
     "metadata": {},
     "output_type": "execute_result"
    }
   ],
   "source": [
    "x_train.shape"
   ]
  },
  {
   "cell_type": "code",
   "execution_count": 7,
   "metadata": {},
   "outputs": [
    {
     "data": {
      "text/plain": [
       "(60000,)"
      ]
     },
     "execution_count": 7,
     "metadata": {},
     "output_type": "execute_result"
    }
   ],
   "source": [
    "y_train.shape"
   ]
  },
  {
   "cell_type": "code",
   "execution_count": 8,
   "metadata": {},
   "outputs": [
    {
     "data": {
      "text/plain": [
       "(10000, 28, 28)"
      ]
     },
     "execution_count": 8,
     "metadata": {},
     "output_type": "execute_result"
    }
   ],
   "source": [
    "x_test.shape"
   ]
  },
  {
   "cell_type": "code",
   "execution_count": 9,
   "metadata": {},
   "outputs": [
    {
     "data": {
      "text/plain": [
       "(10000,)"
      ]
     },
     "execution_count": 9,
     "metadata": {},
     "output_type": "execute_result"
    }
   ],
   "source": [
    "y_test.shape"
   ]
  },
  {
   "cell_type": "markdown",
   "metadata": {},
   "source": [
    "### 2. 数据增强，扩充数据集\n",
    "\n",
    "数据增强，也就是增强数据量。对于图片数据增强，tf.keras 有属于自己的 API：`tf.keras.preprocessing.image.ImageDataGenerator()`，有以下几个参数：\n",
    " + 缩放系数：rescale=所有数据将乘以提供的值\n",
    " + 随机旋转：rotation_range=随机旋转角度数范围\n",
    " + 宽度偏移：width_shift_range=随机宽度偏移量\n",
    " + 高度偏移：height_shift_range=随机高度偏移量\n",
    " + 水平翻转：horizontal_flip=是否水平随机翻转\n",
    " + 随机缩放：zoom_range=随机缩放的范围 [1-n，1+n] \n",
    "\n",
    "设定完图片增强方式后，再调用 `.fit(x_train)` 来增强训练数据集。**值得注意的是**，本次用于图像数据增强的训练集的维度要求为 4 维，即（数量，宽度，高度，通道数），所以在使用该函数之前，还需要对训练数据进行 reshape。"
   ]
  },
  {
   "cell_type": "code",
   "execution_count": 10,
   "metadata": {},
   "outputs": [],
   "source": [
    "# 从 (60000, 28, 28) reshape 为 (60000, 28, 28, 1) 即 60000 张 28 行 28 列单通道数据\n",
    "x_train = x_train.reshape(x_train.shape[0], 28, 28, 1)"
   ]
  },
  {
   "cell_type": "code",
   "execution_count": 11,
   "metadata": {},
   "outputs": [],
   "source": [
    "image_gen_train = tf.keras.preprocessing.image.ImageDataGenerator(\n",
    "    rescale=1. / 1.,  # 如为图像，分母为255时，可归至0～1\n",
    "    rotation_range=45,  # 随机45度旋转\n",
    "    width_shift_range=.15,  # 宽度偏移\n",
    "    height_shift_range=.15,  # 高度偏移\n",
    "    horizontal_flip=False,  # 水平翻转\n",
    "    zoom_range=0.5  # 将图像随机缩放阈量50％\n",
    ")"
   ]
  },
  {
   "cell_type": "code",
   "execution_count": 12,
   "metadata": {},
   "outputs": [],
   "source": [
    "image_gen_train.fit(x_train)"
   ]
  },
  {
   "cell_type": "markdown",
   "metadata": {},
   "source": [
    "以上就很简单的完成了数据增强的功能，并且在之后训练模型时可以直接进行应用，但与之前稍有差别，但是别担心，下面会继续讲解的。\n",
    "\n",
    "根据之前的 “六步法”，到这里已经算是完成了前两个步骤，其实整体思路是没什么变化的，只是我们使用了自己的数据集并对数据集进行了增强。接下来的第三步逐步搭建网络模型和第四步配置训练方法跟之前一样。"
   ]
  },
  {
   "cell_type": "code",
   "execution_count": 13,
   "metadata": {},
   "outputs": [],
   "source": [
    "model = tf.keras.models.Sequential([\n",
    "    tf.keras.layers.Flatten(),\n",
    "    tf.keras.layers.Dense(128, activation='relu'),\n",
    "    tf.keras.layers.Dense(10, activation='softmax')\n",
    "])"
   ]
  },
  {
   "cell_type": "code",
   "execution_count": 14,
   "metadata": {},
   "outputs": [],
   "source": [
    "model.compile(optimizer='adam',\n",
    "              loss=tf.keras.losses.SparseCategoricalCrossentropy(from_logits=False),\n",
    "              metrics=['sparse_categorical_accuracy'])"
   ]
  },
  {
   "cell_type": "markdown",
   "metadata": {},
   "source": [
    "### 3. 断点续训，存取最优模型\n",
    "\n",
    "使用断点续训，可以存取模型。\n",
    "\n",
    "要想读取模型，可以直接使用 TensorFlow 给出的 `load_weight(路径文件名)` 函数，告知文件存在哪里，就可以直接读取已有模型参数了。保存的模型文件后缀为 ckpt，在生成 ckpt 文件的时候会同步生成索引(index)表，因此可以判断是否已存在索引表，就可以知道是否已保存过模型参数了。"
   ]
  },
  {
   "cell_type": "code",
   "execution_count": 15,
   "metadata": {},
   "outputs": [],
   "source": [
    "# 先定义文件存放路径\n",
    "checkpoint_save_path = \"./checkpoint/mnist.ckpt\"\n",
    "# 在生成 ckpt 文件的时候会同步生成索引(index)表，因此可以判断是否已存在索引表，就可以知道是否已保存过模型参数了\n",
    "if os.path.exists(checkpoint_save_path + '.index'):\n",
    "    # 读取模型参数\n",
    "    model.load_weights(checkpoint_save_path)"
   ]
  },
  {
   "cell_type": "markdown",
   "metadata": {},
   "source": [
    "如果要保存模型参数，可以使用 TensorFlow 给出的回调函数 `tf.keras.callbacks.ModelCheckpoint`，直接保存训练出来的模型参数。该函数有如下几个参数：\n",
    " + filepath：路径文件名,                                                 \n",
    " + save_weights_only：是否只保留模型参数\n",
    " + save_best_only：是否只保留最优结果\n",
    " + monitor='val_loss：被监测的数据，可选值为val_acc或val_loss"
   ]
  },
  {
   "cell_type": "code",
   "execution_count": 16,
   "metadata": {},
   "outputs": [],
   "source": [
    "cp_callback = tf.keras.callbacks.ModelCheckpoint(filepath=checkpoint_save_path,\n",
    "                                                 save_weights_only=True,\n",
    "                                                 save_best_only=True)"
   ]
  },
  {
   "cell_type": "markdown",
   "metadata": {},
   "source": [
    "设定完断点后，接下来就是“六步法”中的第四步训练模型。这一步在使用 `model.fit()` 的时候，根据情况会与之前稍有不同。\n",
    "\n",
    "如果使用了数据增强，那么就需要将原来的 `model.fit(x_train, y_train, batch_size=32, ...)` 更改为 `model.fit(image_gen_train.flow(x_train, y_train, batch_size=32))`，也就是使用数据增强的 `.flow()` 函数，使用数据和标签生成每批次 32 个的增强数据。\n",
    "\n",
    "如果使用了断点续训，就需要在训练模型的 `model.fit()` 中再增加一个参数值 `callbacks=[cp_callback]`，即 增加断点续训的回调。\n",
    "\n",
    "还可以用一个变量 history 来保存 `model.fit` 的返回值，用于之后获取训练集和测试集的 acc 和 loss 曲线。"
   ]
  },
  {
   "cell_type": "code",
   "execution_count": 17,
   "metadata": {},
   "outputs": [
    {
     "name": "stdout",
     "output_type": "stream",
     "text": [
      "Train for 1875 steps, validate on 10000 samples\n",
      "Epoch 1/5\n",
      "1875/1875 [==============================] - 19s 10ms/step - loss: 0.6015 - sparse_categorical_accuracy: 0.8175 - val_loss: 0.2008 - val_sparse_categorical_accuracy: 0.9423\n",
      "Epoch 2/5\n",
      "1875/1875 [==============================] - 19s 10ms/step - loss: 0.5953 - sparse_categorical_accuracy: 0.8197 - val_loss: 0.1849 - val_sparse_categorical_accuracy: 0.9430\n",
      "Epoch 3/5\n",
      "1875/1875 [==============================] - 19s 10ms/step - loss: 0.5824 - sparse_categorical_accuracy: 0.8245 - val_loss: 0.1934 - val_sparse_categorical_accuracy: 0.9413\n",
      "Epoch 4/5\n",
      "1875/1875 [==============================] - 19s 10ms/step - loss: 0.5761 - sparse_categorical_accuracy: 0.8260 - val_loss: 0.2028 - val_sparse_categorical_accuracy: 0.9374\n",
      "Epoch 5/5\n",
      "1875/1875 [==============================] - 20s 11ms/step - loss: 0.5723 - sparse_categorical_accuracy: 0.8288 - val_loss: 0.1987 - val_sparse_categorical_accuracy: 0.9401\n"
     ]
    }
   ],
   "source": [
    "history = model.fit(image_gen_train.flow(x_train, y_train, batch_size=32), epochs=5, validation_data=(x_test, y_test),\n",
    "          validation_freq=1, callbacks=[cp_callback])"
   ]
  },
  {
   "cell_type": "markdown",
   "metadata": {},
   "source": [
    "模型训练完成之后，会在当前目录下生成一个 checkpoint 文件夹，里面存放的就是模型的参数。当我们再次运行时，程序会加载之前保存好的模型参数，并且会在之前保存的模型的基础之上继续提升准确率。\n",
    "\n",
    "模型训练完成之后，就可以执行第六步打印并查看网络结构了。"
   ]
  },
  {
   "cell_type": "code",
   "execution_count": 18,
   "metadata": {},
   "outputs": [
    {
     "name": "stdout",
     "output_type": "stream",
     "text": [
      "Model: \"sequential\"\n",
      "_________________________________________________________________\n",
      "Layer (type)                 Output Shape              Param #   \n",
      "=================================================================\n",
      "flatten (Flatten)            multiple                  0         \n",
      "_________________________________________________________________\n",
      "dense (Dense)                multiple                  100480    \n",
      "_________________________________________________________________\n",
      "dense_1 (Dense)              multiple                  1290      \n",
      "=================================================================\n",
      "Total params: 101,770\n",
      "Trainable params: 101,770\n",
      "Non-trainable params: 0\n",
      "_________________________________________________________________\n"
     ]
    }
   ],
   "source": [
    "model.summary()"
   ]
  },
  {
   "cell_type": "markdown",
   "metadata": {},
   "source": [
    "### 4. 参数提取，把参数存入文本\n",
    "\n",
    "利用参数提取，可以将模型参数存入到文本中。利用 `model.model.trainable_variables()` 来返回当前模型中所有可训练参数，要想看到这些可训练参数，可以直接用 `print` 函数直接打印出来，但是如果直接使用这种方式来查看的话，中间会有很多数据被省略号替换掉。\n",
    "\n",
    "可以使用 `np.set_printoptions` 来设置 `print` 函数的打印效果，有以下几个常用参数：\n",
    " + precision：小数点后按四舍五入保留几位，默认 8 位\n",
    " + threshold：打印范围在 threshold + 1 以内的信息或者打印全部信息但中间部分会用省略号代替（默认值为1000）"
   ]
  },
  {
   "cell_type": "code",
   "execution_count": 19,
   "metadata": {},
   "outputs": [],
   "source": [
    "np.set_printoptions(threshold=np.inf) # 设置threshold为无穷大，可以打印全部信息\n",
    "#print(model.trainable_variables)\n",
    "# 把参数信息保存在文件里\n",
    "with open('./data/mnist_image_label/weights.txt', 'w') as file:\n",
    "    for v in model.trainable_variables:\n",
    "        file.write(str(v.name) + '\\n')\n",
    "        file.write(str(v.shape) + '\\n')\n",
    "        file.write(str(v.numpy()) + '\\n')"
   ]
  },
  {
   "cell_type": "markdown",
   "metadata": {},
   "source": [
    "### 5. 可视化 acc 和 loss 曲线，查看训练效果\n",
    "\n",
    "这一部分主要是把准确率上升、损失函数下降的过程可视化出来。这里就需要用到之前在第四步模型训练是的返回值 history。这个变量内部记录了一下几个值的变化：\n",
    " + loss：训练集 loss\n",
    " + val_loss：测试集 loss\n",
    " + sparse_categorical_accuracy：训练集准确率\n",
    " + val_sparse_categorical_accuracy：测试集准确率"
   ]
  },
  {
   "cell_type": "code",
   "execution_count": 20,
   "metadata": {},
   "outputs": [],
   "source": [
    "# 先获取各值\n",
    "acc = history.history['sparse_categorical_accuracy']\n",
    "val_acc = history.history['val_sparse_categorical_accuracy']\n",
    "loss = history.history['loss']\n",
    "val_loss = history.history['val_loss']"
   ]
  },
  {
   "cell_type": "code",
   "execution_count": 21,
   "metadata": {},
   "outputs": [
    {
     "data": {
      "image/png": "[encoded data removed]",
      "text/plain": [
       "<Figure size 432x288 with 1 Axes>"
      ]
     },
     "metadata": {
      "needs_background": "light"
     },
     "output_type": "display_data"
    }
   ],
   "source": [
    "# 绘制准确率 acc 曲线\n",
    "plt.plot(acc, label='Training Accuracy')\n",
    "plt.plot(val_acc, label='Validation Accuracy')\n",
    "plt.title('Training and Validation Accuracy')\n",
    "plt.legend()\n",
    "plt.show()"
   ]
  },
  {
   "cell_type": "code",
   "execution_count": 22,
   "metadata": {},
   "outputs": [
    {
     "data": {
      "image/png": "[encoded data removed]",
      "text/plain": [
       "<Figure size 432x288 with 1 Axes>"
      ]
     },
     "metadata": {
      "needs_background": "light"
     },
     "output_type": "display_data"
    }
   ],
   "source": [
    "# 绘制损失函数 loss 的曲线\n",
    "plt.plot(loss, label='Training Loss')\n",
    "plt.plot(val_loss, label='Validation Loss')\n",
    "plt.title('Training and Validation Loss')\n",
    "plt.legend()\n",
    "plt.show()"
   ]
  },
  {
   "cell_type": "markdown",
   "metadata": {},
   "source": [
    "### 6. 应用模型对新数据进行预测\n",
    "\n",
    "经过上面的步骤，“六步法”得到了很好的补充，使用 tf.keras 实现神经网络的方法也更加的完善。但是要想让模型可用，还需要编写一套应用程序，让模型可用于对新数据的预测。\n",
    "\n",
    "对于手写数字识别模型，那么就需要让训练好的模型可以对新的手写的数字进行识别。可以使用 `model.predict()` 函数来对新的输入特征进行预测，该函数有以下几个常用参数：\n",
    " + x：输入数据，Numpy 数组（或者 Numpy 数组的列表，如果模型有多个输出）\n",
    " + batch_size：整数，由于 GPU 的特性，batch_size 最好选用 8，16，32，64……，如果未指定，默认为 32\n",
    " + verbose: 日志显示模式，0 或 1\n",
    " + steps: 声明预测结束之前的总步数（批次样本），默认值 None\n",
    " + 返回：预测的 Numpy 数组（或数组列表）\n",
    " \n",
    "要实现一个应用程序进行预测，大致分为三个步骤：\n",
    " + 复现模型\n",
    " + 加载参数\n",
    " + 预测结果"
   ]
  },
  {
   "cell_type": "markdown",
   "metadata": {},
   "source": [
    "#### 6.1 复现模型"
   ]
  },
  {
   "cell_type": "code",
   "execution_count": 23,
   "metadata": {},
   "outputs": [],
   "source": [
    "model = tf.keras.models.Sequential([\n",
    "    tf.keras.layers.Flatten(),\n",
    "    tf.keras.layers.Dense(128, activation='relu'),\n",
    "    tf.keras.layers.Dense(10, activation='softmax')\n",
    "])"
   ]
  },
  {
   "cell_type": "markdown",
   "metadata": {},
   "source": [
    "#### 6.2 加载参数"
   ]
  },
  {
   "cell_type": "code",
   "execution_count": 24,
   "metadata": {},
   "outputs": [
    {
     "data": {
      "text/plain": [
       "<tensorflow.python.training.tracking.util.CheckpointLoadStatus at 0x1fea500b708>"
      ]
     },
     "execution_count": 24,
     "metadata": {},
     "output_type": "execute_result"
    }
   ],
   "source": [
    "model_save_path = './checkpoint/mnist.ckpt'\n",
    "model.load_weights(model_save_path)"
   ]
  },
  {
   "cell_type": "markdown",
   "metadata": {},
   "source": [
    "#### 6.3 预测结果\n",
    "\n",
    "在 `./data/digits` 目录中，存放着 10 个新的手写数字图片 `0.png`、`1.png` …… `9.png`\n",
    "\n",
    "这里要注意的是，预测数据，与训练用的数据格式不一致。\n",
    " + 训练模型时用的图片是 28 行 28 列的灰度图，而输入的预测数据则是任意尺寸的图片，因此需要先 resize 成 28 行 28 列的标准尺寸，并转换为灰度图；\n",
    " + 训练模型时用的数据集是黑底白字灰度图，而输入的预测数据则是白底黑字，因此需要让输入数据的每个像素点等于 255 减去当前像素值（相当于颜色取反）；\n",
    " + 此外，输入的预测数据还需要完成归一化，即对图片数据除以 255。\n",
    "\n",
    "只有经过这两个步骤，才可以让从没见过的数字图片满足神经网络模型对输入风格的要求，这个过程叫做**预处理**。预处理的方法有很多，对于手写数字识别，还可以让输入图片变为只有黑色和白色的高对比度图片，这样可以在保留图片有用信息的同时，滤去背景噪声，图片更干净。\n",
    "\n",
    "由于神经网络训练时，都是按照 batch 送入网络的，所以输入数据进入 predict 函数之前还需要在前面添加 1 个维度，从 28 行 28 列的二维数据，变为 1 个 28 行 28 列的三维数据。"
   ]
  },
  {
   "cell_type": "code",
   "execution_count": 25,
   "metadata": {},
   "outputs": [
    {
     "name": "stdout",
     "output_type": "stream",
     "text": [
      "./data/digits/8.png\n"
     ]
    },
    {
     "data": {
      "image/png": "[encoded data removed]",
      "text/plain": [
       "<Figure size 432x288 with 1 Axes>"
      ]
     },
     "metadata": {
      "needs_background": "light"
     },
     "output_type": "display_data"
    }
   ],
   "source": [
    "# 随机从选一个手写数字图片\n",
    "rand_idx = np.random.randint(0, 10)\n",
    "img_path = './data/digits/{}.png'.format(rand_idx)\n",
    "im = plt.imread(img_path)\n",
    "plt.imshow(im)\n",
    "print(img_path)\n",
    "plt.show()"
   ]
  },
  {
   "cell_type": "code",
   "execution_count": 26,
   "metadata": {},
   "outputs": [
    {
     "name": "stdout",
     "output_type": "stream",
     "text": [
      "predict: [8]\r\n"
     ]
    }
   ],
   "source": [
    "# 获取图片\n",
    "img = Image.open(img_path)\n",
    "# resize 图像大小为 28x28\n",
    "img = img.resize((28, 28), Image.ANTIALIAS)\n",
    "# 转换为灰度图\n",
    "img_arr = np.array(img.convert('L'))\n",
    "# 颜色取反，原来是白底黑字，转换为黑底白字\n",
    "img_arr = 255 - img_arr\n",
    "# 归一化\n",
    "img_arr = img_arr / 255.0 \n",
    "# 将 img_arr 的维度从 [28, 28] 转换为 [1, 28, 28]\n",
    "x_predict = img_arr[tf.newaxis, ...] \n",
    "# 预测，并得到所有值的概率\n",
    "result = model.predict(x_predict)\n",
    "# 得到最大概率值，即预测结果\n",
    "pred = tf.argmax(result, axis=1) \n",
    "tf.print('predict:', pred)"
   ]
  },
  {
   "cell_type": "code",
   "execution_count": null,
   "metadata": {},
   "outputs": [],
   "source": []
  }
 ],
 "metadata": {
  "kernelspec": {
   "display_name": "tensorflow 2.1",
   "language": "python",
   "name": "tf2"
  },
  "language_info": {
   "codemirror_mode": {
    "name": "ipython",
    "version": 3
   },
   "file_extension": ".py",
   "mimetype": "text/x-python",
   "name": "python",
   "nbconvert_exporter": "python",
   "pygments_lexer": "ipython3",
   "version": "3.7.7"
  }
 },
 "nbformat": 4,
 "nbformat_minor": 4
}
