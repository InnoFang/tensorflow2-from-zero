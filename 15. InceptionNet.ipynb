{
 "cells": [
  {
   "cell_type": "markdown",
   "metadata": {},
   "source": [
    "### InceptionNet\n",
    "\n",
    "InceptionNet[1] 也是诞生于 2014 年，它的 v1 版本也叫 GoogLeNet。值得一提的是，VGGNet 是当年 ImageNet 竞赛的亚军，而冠军GoogLeNet。InceptionNet 的核心是它的基本单元 Inception 结构块，无论是 GoogleNet（即 InceptionNet v1）还是 InceptionNet 的后续版本 v2、v3、v4 都是基于 Inception 结构块搭建的网络。\n",
    "\n",
    "+ [1] Szegedy C , Liu W , Jia Y , et al. Going Deeper with Convolutions[J]. 2014."
   ]
  },
  {
   "cell_type": "markdown",
   "metadata": {},
   "source": [
    "### Inception 结构块\n",
    "\n",
    "Inception 结构块如下图所示：\n",
    "\n",
    "![](https://static.oschina.net/uploads/space/2018/0317/141520_31TH_876354.png)\n",
    "\n",
    "InceptionNet 最初的设计思想是利用不同尺寸的卷积层和池化层进行横向组合来拓宽网络，使用全 0 填充让卷积、池化后的特征尺寸保持不变，再让通道进行相加，增加了网络对特征尺寸的适应性，但是这最初的思想会也带来一个问题，所有的卷积核都会在上一层的输出上直接做卷积运算，这会导致参数量和计算量过大。因此，又在此基础上**在卷积运算前、最大池化后加入了 $1\\times1$ 的卷积层，来对网络参数进行降维**，改变输出特征的通道（channel）数，减低特征厚度，最终形成了上图的结构。\n",
    "\n",
    "这时又有一个问题了，为什么加入一个 $1\\times1$ 的卷积层可以达到降低特征厚度的效果呢？举例来说，假设上一层的网络输出为 $100\\times100\\times128$ ($高\\times宽\\times通道数$)，如果使用 32 个 $5\\times5$ 的卷积核进行卷积运算（步长为 1，全 0 填充），那么输出就为 $100\\times100\\times32$（卷积核的个数决定了输出特征图的深度），那么此时卷积层的参数量就为 $32\\times5\\times5\\times128=102400$（乘以 128 是因为卷积核的深度为 128，这由输入特征图的深度决定）；如果让上一层的输出先经过 32 个 $1\\times1$ 卷积核的卷积运算，使新的输出为 $100\\times100\\times32$，再在其基础上用 32 个 $5\\times5$ 的卷积核进行卷积运算，最终输出仍是 $100\\times100\\times32$，但是参数量就变为了 $32\\times1\\times1\\times128+32\\times5\\times5\\times32=29696$，仅为原参数的 $30%$ 左右，这就是小卷积核的降维作用。\n",
    "\n",
    "从上图可以知道 Inception 结构块包含四个分支，从左到右分析：\n",
    " + 经过 $1\\times1$ 卷积核输出到卷积连接器\n",
    " + 经过 $1\\times1$ 卷积核配合 $3\\times3$ 卷积核输出到卷积连接器\n",
    " + 经过 $1\\times1$ 卷积核配合 $5\\times5$ 卷积核输出到卷积连接器\n",
    " + 经过 $3\\times3$ 最大池化核配合 $1\\times1$ 卷积核输出到卷积连接器\n",
    " \n",
    "送到卷积连接器的特征数据尺寸都是相同的，卷积连接器会把收到的这四路特征数据**按深度方向**拼接，形成 Inception 结构块的输出。显然，InceptionNet 模型的构建与 VGGNet 及之前的网络相比，不再是简单的纵向堆叠，而是通过增加网络的宽度来提升网络的能力。"
   ]
  },
  {
   "cell_type": "code",
   "execution_count": 1,
   "metadata": {},
   "outputs": [],
   "source": [
    "import tensorflow as tf\n",
    "import numpy as np\n",
    "import os\n",
    "from matplotlib import pyplot as plt\n",
    "from tensorflow.keras.layers import Conv2D, BatchNormalization, Activation, MaxPool2D, Dropout, GlobalAveragePooling2D, Dense\n",
    "from tensorflow.keras import Model"
   ]
  },
  {
   "cell_type": "markdown",
   "metadata": {},
   "source": [
    "Inception 结构块是一个 2 层的网络，此外对于卷积核来说，除了卷积核的大小不同之外，均采用了：\n",
    " + 全 0 填充（`padding='same'`）\n",
    " + 批标准化\n",
    " + ReLu 激活函数\n",
    "\n",
    "因此只需要专门设定卷积核大小即可（四个 $1\\times1$、两个$3\\times3$、一个$5\\times5$）\n",
    "\n",
    "对于最大池化核：大小则为 $3\\times3$，步长为 1，使用全 0 填充（`padding='same'`）。\n",
    "\n",
    "最后的卷积连接器（Filter Concatenation）会把所有传过来的**特征数据按深度方向叠加**在一起。什么意思呢？比如上一层的输出深度为 16，那么经过四路特征数据的深度叠加，结果就是 $4\\times16=64$。"
   ]
  },
  {
   "cell_type": "code",
   "execution_count": 2,
   "metadata": {},
   "outputs": [],
   "source": [
    "# 对于使用了 BN 操作、ReLu激活函数的卷积核的封装\n",
    "class ConvBNRelu(Model):\n",
    "    def __init__(self, channel, kernel_size=3, strides=1, padding='same'):\n",
    "        super(ConvBNRelu, self).__init__()\n",
    "        self.model = tf.keras.models.Sequential([\n",
    "            Conv2D(channel, kernel_size, strides=strides,padding=padding),\n",
    "            BatchNormalization(),\n",
    "            Activation('relu')\n",
    "        ])\n",
    "    \n",
    "    def call(self, x):\n",
    "        return self.model(x)"
   ]
  },
  {
   "cell_type": "code",
   "execution_count": 3,
   "metadata": {},
   "outputs": [],
   "source": [
    "# Inception 结构块，使用上面的 ConvBNRelu 快速构建\n",
    "class InceptionBlock(Model):\n",
    "    def __init__(self, channel, strides=1):\n",
    "        super(InceptionBlock, self).__init__()\n",
    "        self.channel = channel\n",
    "        self.strides = strides\n",
    "        # 根据结构图，从左到右，有 4 列，从下往上（第一列除外）分 2 行，\n",
    "        # 用于降维的 1x1 卷积核的步长由外部控制\n",
    "        self.c1 = ConvBNRelu(channel, kernel_size=1, strides=strides) # 1x1 conv\n",
    "        self.c2_1 = ConvBNRelu(channel, kernel_size=1, strides=strides) # 1x1 conv\n",
    "        self.c2_2 = ConvBNRelu(channel, kernel_size=3, strides=1) # 3x3 conv\n",
    "        self.c3_1 = ConvBNRelu(channel, kernel_size=1, strides=strides) # 1x1 conv\n",
    "        self.c3_2 = ConvBNRelu(channel, kernel_size=5, strides=1) # 1x1 conv\n",
    "        self.p4_1 = MaxPool2D(3, strides=1, padding='same')\n",
    "        self.c4_2 = ConvBNRelu(channel, kernel_size=1, strides=strides) # 1x1 conv\n",
    "    \n",
    "    def call(self, x):\n",
    "        # 注意块内是四个分支\n",
    "        x1 = self.c1(x)\n",
    "        x2 = self.c2_2(self.c2_1(x))\n",
    "        x3 = self.c3_2(self.c3_1(x))\n",
    "        x4 = self.c4_2(self.p4_1(x))\n",
    "        # 按深度(通道)方向叠加\n",
    "        y = tf.concat([x1, x2, x3, x4], axis=3)\n",
    "        return y"
   ]
  },
  {
   "cell_type": "markdown",
   "metadata": {},
   "source": [
    "### 精简版 InceptionNet 的实现\n",
    "\n",
    "\n",
    "[原论文](https://arxiv.org/pdf/1409.4842.pdf) 中 InceptionNet v1 （GoogLeNet）的网络结构如下表：\n",
    "\n",
    "![](https://static.oschina.net/uploads/space/2018/0317/141605_c1XW_876354.png)\n",
    "\n",
    "但本节不实现 GoogLeNet。本节会在 Inception 结构块的基础上，实现一个用于训练 Fashion MNIST 数据集的精简版本的 InceptionNet，总共 10 层：一层卷积层、四个 Inception 结构块（$4\\times2$ 层）、一层全连接层，其中每两个 Inception 结构块组成一个 block：\n",
    "\n",
    "**注** CBAPD 即 **C**onvolutional、**B**atch Normalization、**A**ctivation、**P**ooling、**D**ropout\n",
    "\n",
    " + **第一层**：卷积层：\n",
    "   + C：使用 16 个 $3\\times3$ 的卷积核，步长为 1，使用全 0 填充（same）\n",
    "   + B：使用批标准化 Batch Normalization\n",
    "   + A：使用 ReLu 激活函数\n",
    "   + P：不使用池化\n",
    "   + D：不使用 Dropout\n",
    " + **Block 1**：串联两个 Inception 结构块\n",
    "  + 第一个 Inception 块通道数为 16，卷积步长为 2，输出特征图尺寸减半\n",
    "  + 第二个 Inception 块通道数为 16，卷积步长为 1\n",
    " + **Block 2**：串联两个 Inception 结构块（Block 1中的特征图尺寸已减半，下面让通道数翻倍，**尽量保持特征抽取中信息的承载量一致**）\n",
    "  + 第一个 Inception 块通道数为 32，卷积步长为 2，输出特征图尺寸减半\n",
    "  + 第二个 Inception 块通道数为 32，卷积步长为 1\n",
    " + 对以上传过来的特征图数据使用一次全局平均池化 （Global Average Pooling）\n",
    " + **输出层**：全连接层\n",
    "  + 10 个神经元\n",
    "  + 使用 softmax 激活函数"
   ]
  },
  {
   "cell_type": "code",
   "execution_count": 4,
   "metadata": {},
   "outputs": [],
   "source": [
    "inception_net10 = [\n",
    "    # 第一层卷积\n",
    "    ConvBNRelu(16), # ConvBNRelu 函数的默认值符合该层设计\n",
    "    # block 1\n",
    "    InceptionBlock(16, strides=2),\n",
    "    InceptionBlock(16, strides=1),\n",
    "    # block 2\n",
    "    InceptionBlock(32, strides=2),\n",
    "    InceptionBlock(32, strides=1),\n",
    "    # 全局平均池化\n",
    "    GlobalAveragePooling2D(),\n",
    "    # 输出层\n",
    "    Dense(10, activation='softmax')\n",
    "]"
   ]
  },
  {
   "cell_type": "code",
   "execution_count": 5,
   "metadata": {},
   "outputs": [],
   "source": [
    "# 导入数据集\n",
    "(x_train, y_train), (x_test, y_test) = tf.keras.datasets.fashion_mnist.load_data() \n",
    "x_train, x_test = x_train / 255.0, x_test / 255.0\n",
    "x_train = x_train.reshape(x_train.shape[0], 28, 28, 1)\n",
    "x_test = x_test.reshape(x_test.shape[0], 28, 28, 1)"
   ]
  },
  {
   "cell_type": "code",
   "execution_count": 6,
   "metadata": {},
   "outputs": [],
   "source": [
    "# InceptionNet10\n",
    "model = tf.keras.models.Sequential(inception_net10)"
   ]
  },
  {
   "cell_type": "code",
   "execution_count": 7,
   "metadata": {},
   "outputs": [],
   "source": [
    "# 配置模型参数\n",
    "model.compile(optimizer='adam',\n",
    "              loss=tf.keras.losses.SparseCategoricalCrossentropy(from_logits=False),\n",
    "              metrics=['sparse_categorical_accuracy'])"
   ]
  },
  {
   "cell_type": "code",
   "execution_count": 8,
   "metadata": {},
   "outputs": [],
   "source": [
    "# 设置断点续训\n",
    "checkpoint_save_path = './checkpoint/InceptionNet10.ckpt'\n",
    "if os.path.exists(checkpoint_save_path + '.index'):\n",
    "    model.load_weights(checkpoint_save_path)"
   ]
  },
  {
   "cell_type": "code",
   "execution_count": 9,
   "metadata": {},
   "outputs": [],
   "source": [
    "# 设置保存最优模型参数回调\n",
    "cp_callback = tf.keras.callbacks.ModelCheckpoint(filepath=checkpoint_save_path,\n",
    "                                                save_best_only=True,\n",
    "                                                save_weights_only=True)"
   ]
  },
  {
   "cell_type": "code",
   "execution_count": 10,
   "metadata": {},
   "outputs": [
    {
     "name": "stdout",
     "output_type": "stream",
     "text": [
      "Train on 60000 samples, validate on 10000 samples\n",
      "Epoch 1/5\n",
      "60000/60000 [==============================] - 293s 5ms/sample - loss: 0.4834 - sparse_categorical_accuracy: 0.8311 - val_loss: 0.6836 - val_sparse_categorical_accuracy: 0.7455\n",
      "Epoch 2/5\n",
      "60000/60000 [==============================] - 280s 5ms/sample - loss: 0.2782 - sparse_categorical_accuracy: 0.8992 - val_loss: 0.3564 - val_sparse_categorical_accuracy: 0.8713\n",
      "Epoch 3/5\n",
      "60000/60000 [==============================] - 281s 5ms/sample - loss: 0.2306 - sparse_categorical_accuracy: 0.9159 - val_loss: 0.3456 - val_sparse_categorical_accuracy: 0.8813\n",
      "Epoch 4/5\n",
      "60000/60000 [==============================] - 284s 5ms/sample - loss: 0.2013 - sparse_categorical_accuracy: 0.9267 - val_loss: 0.5128 - val_sparse_categorical_accuracy: 0.8318\n",
      "Epoch 5/5\n",
      "60000/60000 [==============================] - 282s 5ms/sample - loss: 0.1789 - sparse_categorical_accuracy: 0.9344 - val_loss: 0.3374 - val_sparse_categorical_accuracy: 0.8850\n"
     ]
    }
   ],
   "source": [
    "# 训练模型\n",
    "history = model.fit(x_train, y_train,\n",
    "                    batch_size=128,\n",
    "                    epochs=5,\n",
    "                    validation_data=(x_test, y_test),\n",
    "                    validation_freq=1,\n",
    "                    callbacks=[cp_callback])"
   ]
  },
  {
   "cell_type": "code",
   "execution_count": 11,
   "metadata": {},
   "outputs": [
    {
     "name": "stdout",
     "output_type": "stream",
     "text": [
      "Model: \"sequential_25\"\n",
      "_________________________________________________________________\n",
      "Layer (type)                 Output Shape              Param #   \n",
      "=================================================================\n",
      "conv_bn_relu (ConvBNRelu)    multiple                  224       \n",
      "_________________________________________________________________\n",
      "inception_block (InceptionBl multiple                  10208     \n",
      "_________________________________________________________________\n",
      "inception_block_1 (Inception multiple                  13280     \n",
      "_________________________________________________________________\n",
      "inception_block_2 (Inception multiple                  43968     \n",
      "_________________________________________________________________\n",
      "inception_block_3 (Inception multiple                  52160     \n",
      "_________________________________________________________________\n",
      "global_average_pooling2d (Gl multiple                  0         \n",
      "_________________________________________________________________\n",
      "dense (Dense)                multiple                  1290      \n",
      "=================================================================\n",
      "Total params: 121,130\n",
      "Trainable params: 119,946\n",
      "Non-trainable params: 1,184\n",
      "_________________________________________________________________\n"
     ]
    }
   ],
   "source": [
    "# 打印网络结构\n",
    "model.summary()"
   ]
  },
  {
   "cell_type": "code",
   "execution_count": 12,
   "metadata": {},
   "outputs": [],
   "source": [
    "np.set_printoptions(threshold=np.inf)\n",
    "# 保存参数信息\n",
    "with open('./data/weights.txt', 'w') as file:\n",
    "    for v in model.trainable_variables:\n",
    "        file.write(str(v.name) + '\\n')\n",
    "        file.write(str(v.shape) + '\\n')\n",
    "        file.write(str(v.numpy()) + '\\n')"
   ]
  },
  {
   "cell_type": "code",
   "execution_count": 13,
   "metadata": {},
   "outputs": [],
   "source": [
    "# 获取 acc 和 loss 曲线数据\n",
    "acc = history.history['sparse_categorical_accuracy']\n",
    "val_acc = history.history['val_sparse_categorical_accuracy']\n",
    "loss = history.history['loss']\n",
    "val_loss = history.history['val_loss']"
   ]
  },
  {
   "cell_type": "code",
   "execution_count": 14,
   "metadata": {},
   "outputs": [
    {
     "data": {
      "image/png": "[encoded data removed]",
      "text/plain": [
       "<Figure size 432x288 with 1 Axes>"
      ]
     },
     "metadata": {
      "needs_background": "light"
     },
     "output_type": "display_data"
    }
   ],
   "source": [
    "# 可视化 acc 曲线\n",
    "plt.plot(acc, label='Training Accuracy')\n",
    "plt.plot(val_acc, label='Validation Accuracy')\n",
    "plt.title('Training and Validation Accuracy')\n",
    "plt.legend()\n",
    "plt.show()"
   ]
  },
  {
   "cell_type": "code",
   "execution_count": 15,
   "metadata": {},
   "outputs": [
    {
     "data": {
      "image/png": "[encoded data removed]",
      "text/plain": [
       "<Figure size 432x288 with 1 Axes>"
      ]
     },
     "metadata": {
      "needs_background": "light"
     },
     "output_type": "display_data"
    }
   ],
   "source": [
    "# 可视化 loss 曲线\n",
    "plt.plot(loss, label='Training Loss')\n",
    "plt.plot(val_loss, label='Validation Loss')\n",
    "plt.title('Training and Validation Loss')\n",
    "plt.legend()\n",
    "plt.show()"
   ]
  },
  {
   "cell_type": "code",
   "execution_count": null,
   "metadata": {},
   "outputs": [],
   "source": []
  }
 ],
 "metadata": {
  "kernelspec": {
   "display_name": "tensorflow 2.1",
   "language": "python",
   "name": "tf2"
  },
  "language_info": {
   "codemirror_mode": {
    "name": "ipython",
    "version": 3
   },
   "file_extension": ".py",
   "mimetype": "text/x-python",
   "name": "python",
   "nbconvert_exporter": "python",
   "pygments_lexer": "ipython3",
   "version": "3.7.7"
  }
 },
 "nbformat": 4,
 "nbformat_minor": 4
}
